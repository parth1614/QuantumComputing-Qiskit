{
  "nbformat": 4,
  "nbformat_minor": 0,
  "metadata": {
    "colab": {
      "name": "Dj_Algo_Both.ipynb",
      "provenance": [],
      "authorship_tag": "ABX9TyNKhH2sUJcVCM+OuGFBn+BM",
      "include_colab_link": true
    },
    "kernelspec": {
      "name": "python3",
      "display_name": "Python 3"
    },
    "language_info": {
      "name": "python"
    }
  },
  "cells": [
    {
      "cell_type": "markdown",
      "metadata": {
        "id": "view-in-github",
        "colab_type": "text"
      },
      "source": [
        "<a href=\"https://colab.research.google.com/github/parth1614/QuantumComputing-Qiskit/blob/main/Dj_Algo_Both.ipynb\" target=\"_parent\"><img src=\"https://colab.research.google.com/assets/colab-badge.svg\" alt=\"Open In Colab\"/></a>"
      ]
    },
    {
      "cell_type": "code",
      "execution_count": 1,
      "metadata": {
        "colab": {
          "base_uri": "https://localhost:8080/"
        },
        "id": "eOmK8SLaSweP",
        "outputId": "89e6d70d-b695-473c-b550-d51e7ceb6a83"
      },
      "outputs": [
        {
          "output_type": "stream",
          "name": "stdout",
          "text": [
            "Collecting qiskit\n",
            "  Downloading qiskit-0.36.1.tar.gz (13 kB)\n",
            "Collecting qiskit-terra==0.20.1\n",
            "  Downloading qiskit_terra-0.20.1-cp37-cp37m-manylinux_2_17_x86_64.manylinux2014_x86_64.whl (6.5 MB)\n",
            "\u001b[K     |████████████████████████████████| 6.5 MB 4.4 MB/s \n",
            "\u001b[?25hCollecting qiskit-aer==0.10.4\n",
            "  Downloading qiskit_aer-0.10.4-cp37-cp37m-manylinux_2_12_x86_64.manylinux2010_x86_64.whl (18.0 MB)\n",
            "\u001b[K     |████████████████████████████████| 18.0 MB 351 kB/s \n",
            "\u001b[?25hCollecting qiskit-ibmq-provider==0.19.1\n",
            "  Downloading qiskit_ibmq_provider-0.19.1-py3-none-any.whl (240 kB)\n",
            "\u001b[K     |████████████████████████████████| 240 kB 37.8 MB/s \n",
            "\u001b[?25hCollecting qiskit-ignis==0.7.0\n",
            "  Downloading qiskit_ignis-0.7.0-py3-none-any.whl (200 kB)\n",
            "\u001b[K     |████████████████████████████████| 200 kB 46.4 MB/s \n",
            "\u001b[?25hRequirement already satisfied: scipy>=1.0 in /usr/local/lib/python3.7/dist-packages (from qiskit-aer==0.10.4->qiskit) (1.4.1)\n",
            "Requirement already satisfied: numpy>=1.16.3 in /usr/local/lib/python3.7/dist-packages (from qiskit-aer==0.10.4->qiskit) (1.21.6)\n",
            "Collecting requests-ntlm>=1.1.0\n",
            "  Downloading requests_ntlm-1.1.0-py2.py3-none-any.whl (5.7 kB)\n",
            "Requirement already satisfied: requests>=2.19 in /usr/local/lib/python3.7/dist-packages (from qiskit-ibmq-provider==0.19.1->qiskit) (2.23.0)\n",
            "Collecting websockets>=10.0\n",
            "  Downloading websockets-10.3-cp37-cp37m-manylinux_2_5_x86_64.manylinux1_x86_64.manylinux_2_12_x86_64.manylinux2010_x86_64.whl (112 kB)\n",
            "\u001b[K     |████████████████████████████████| 112 kB 43.1 MB/s \n",
            "\u001b[?25hRequirement already satisfied: python-dateutil>=2.8.0 in /usr/local/lib/python3.7/dist-packages (from qiskit-ibmq-provider==0.19.1->qiskit) (2.8.2)\n",
            "Collecting websocket-client>=1.0.1\n",
            "  Downloading websocket_client-1.3.2-py3-none-any.whl (54 kB)\n",
            "\u001b[K     |████████████████████████████████| 54 kB 2.6 MB/s \n",
            "\u001b[?25hRequirement already satisfied: urllib3>=1.21.1 in /usr/local/lib/python3.7/dist-packages (from qiskit-ibmq-provider==0.19.1->qiskit) (1.24.3)\n",
            "Collecting retworkx>=0.8.0\n",
            "  Downloading retworkx-0.11.0-cp37-cp37m-manylinux_2_5_x86_64.manylinux1_x86_64.manylinux_2_12_x86_64.manylinux2010_x86_64.whl (1.6 MB)\n",
            "\u001b[K     |████████████████████████████████| 1.6 MB 45.3 MB/s \n",
            "\u001b[?25hRequirement already satisfied: setuptools>=40.1.0 in /usr/local/lib/python3.7/dist-packages (from qiskit-ignis==0.7.0->qiskit) (57.4.0)\n",
            "Collecting stevedore>=3.0.0\n",
            "  Downloading stevedore-3.5.0-py3-none-any.whl (49 kB)\n",
            "\u001b[K     |████████████████████████████████| 49 kB 5.8 MB/s \n",
            "\u001b[?25hRequirement already satisfied: sympy>=1.3 in /usr/local/lib/python3.7/dist-packages (from qiskit-terra==0.20.1->qiskit) (1.7.1)\n",
            "Collecting tweedledum<2.0,>=1.1\n",
            "  Downloading tweedledum-1.1.1-cp37-cp37m-manylinux_2_12_x86_64.manylinux2010_x86_64.whl (943 kB)\n",
            "\u001b[K     |████████████████████████████████| 943 kB 30.8 MB/s \n",
            "\u001b[?25hRequirement already satisfied: psutil>=5 in /usr/local/lib/python3.7/dist-packages (from qiskit-terra==0.20.1->qiskit) (5.4.8)\n",
            "Collecting python-constraint>=1.4\n",
            "  Downloading python-constraint-1.4.0.tar.bz2 (18 kB)\n",
            "Collecting symengine>=0.9\n",
            "  Downloading symengine-0.9.2-cp37-cp37m-manylinux2010_x86_64.whl (37.5 MB)\n",
            "\u001b[K     |████████████████████████████████| 37.5 MB 1.3 MB/s \n",
            "\u001b[?25hRequirement already satisfied: dill>=0.3 in /usr/local/lib/python3.7/dist-packages (from qiskit-terra==0.20.1->qiskit) (0.3.4)\n",
            "Collecting scipy>=1.0\n",
            "  Downloading scipy-1.7.3-cp37-cp37m-manylinux_2_12_x86_64.manylinux2010_x86_64.whl (38.1 MB)\n",
            "\u001b[K     |████████████████████████████████| 38.1 MB 1.4 MB/s \n",
            "\u001b[?25hCollecting ply>=3.10\n",
            "  Downloading ply-3.11-py2.py3-none-any.whl (49 kB)\n",
            "\u001b[K     |████████████████████████████████| 49 kB 6.2 MB/s \n",
            "\u001b[?25hRequirement already satisfied: six>=1.5 in /usr/local/lib/python3.7/dist-packages (from python-dateutil>=2.8.0->qiskit-ibmq-provider==0.19.1->qiskit) (1.15.0)\n",
            "Requirement already satisfied: idna<3,>=2.5 in /usr/local/lib/python3.7/dist-packages (from requests>=2.19->qiskit-ibmq-provider==0.19.1->qiskit) (2.10)\n",
            "Requirement already satisfied: certifi>=2017.4.17 in /usr/local/lib/python3.7/dist-packages (from requests>=2.19->qiskit-ibmq-provider==0.19.1->qiskit) (2021.10.8)\n",
            "Requirement already satisfied: chardet<4,>=3.0.2 in /usr/local/lib/python3.7/dist-packages (from requests>=2.19->qiskit-ibmq-provider==0.19.1->qiskit) (3.0.4)\n",
            "Collecting cryptography>=1.3\n",
            "  Downloading cryptography-37.0.2-cp36-abi3-manylinux_2_24_x86_64.whl (4.0 MB)\n",
            "\u001b[K     |████████████████████████████████| 4.0 MB 23.0 MB/s \n",
            "\u001b[?25hCollecting ntlm-auth>=1.0.2\n",
            "  Downloading ntlm_auth-1.5.0-py2.py3-none-any.whl (29 kB)\n",
            "Requirement already satisfied: cffi>=1.12 in /usr/local/lib/python3.7/dist-packages (from cryptography>=1.3->requests-ntlm>=1.1.0->qiskit-ibmq-provider==0.19.1->qiskit) (1.15.0)\n",
            "Requirement already satisfied: pycparser in /usr/local/lib/python3.7/dist-packages (from cffi>=1.12->cryptography>=1.3->requests-ntlm>=1.1.0->qiskit-ibmq-provider==0.19.1->qiskit) (2.21)\n",
            "Requirement already satisfied: importlib-metadata>=1.7.0 in /usr/local/lib/python3.7/dist-packages (from stevedore>=3.0.0->qiskit-terra==0.20.1->qiskit) (4.11.3)\n",
            "Collecting pbr!=2.1.0,>=2.0.0\n",
            "  Downloading pbr-5.9.0-py2.py3-none-any.whl (112 kB)\n",
            "\u001b[K     |████████████████████████████████| 112 kB 41.3 MB/s \n",
            "\u001b[?25hRequirement already satisfied: zipp>=0.5 in /usr/local/lib/python3.7/dist-packages (from importlib-metadata>=1.7.0->stevedore>=3.0.0->qiskit-terra==0.20.1->qiskit) (3.8.0)\n",
            "Requirement already satisfied: typing-extensions>=3.6.4 in /usr/local/lib/python3.7/dist-packages (from importlib-metadata>=1.7.0->stevedore>=3.0.0->qiskit-terra==0.20.1->qiskit) (4.2.0)\n",
            "Requirement already satisfied: mpmath>=0.19 in /usr/local/lib/python3.7/dist-packages (from sympy>=1.3->qiskit-terra==0.20.1->qiskit) (1.2.1)\n",
            "Building wheels for collected packages: qiskit, python-constraint\n",
            "  Building wheel for qiskit (setup.py) ... \u001b[?25l\u001b[?25hdone\n",
            "  Created wheel for qiskit: filename=qiskit-0.36.1-py3-none-any.whl size=11887 sha256=42d7afcbd6d0f0dee42beeafb2550a38addb14e59a5d04c1db171ddf4bf9a51c\n",
            "  Stored in directory: /root/.cache/pip/wheels/16/d2/58/340c0b0c7701a58b596126e5eb31c347c8dbfda8b949a555bd\n",
            "  Building wheel for python-constraint (setup.py) ... \u001b[?25l\u001b[?25hdone\n",
            "  Created wheel for python-constraint: filename=python_constraint-1.4.0-py2.py3-none-any.whl size=24081 sha256=418ec8eff457779973fb81165794a4319c289a2e74f31880c6a8c6af7e460647\n",
            "  Stored in directory: /root/.cache/pip/wheels/07/27/db/1222c80eb1e431f3d2199c12569cb1cac60f562a451fe30479\n",
            "Successfully built qiskit python-constraint\n",
            "Installing collected packages: pbr, tweedledum, symengine, stevedore, scipy, retworkx, python-constraint, ply, ntlm-auth, cryptography, websockets, websocket-client, requests-ntlm, qiskit-terra, qiskit-ignis, qiskit-ibmq-provider, qiskit-aer, qiskit\n",
            "  Attempting uninstall: scipy\n",
            "    Found existing installation: scipy 1.4.1\n",
            "    Uninstalling scipy-1.4.1:\n",
            "      Successfully uninstalled scipy-1.4.1\n",
            "\u001b[31mERROR: pip's dependency resolver does not currently take into account all the packages that are installed. This behaviour is the source of the following dependency conflicts.\n",
            "albumentations 0.1.12 requires imgaug<0.2.7,>=0.2.5, but you have imgaug 0.2.9 which is incompatible.\u001b[0m\n",
            "Successfully installed cryptography-37.0.2 ntlm-auth-1.5.0 pbr-5.9.0 ply-3.11 python-constraint-1.4.0 qiskit-0.36.1 qiskit-aer-0.10.4 qiskit-ibmq-provider-0.19.1 qiskit-ignis-0.7.0 qiskit-terra-0.20.1 requests-ntlm-1.1.0 retworkx-0.11.0 scipy-1.7.3 stevedore-3.5.0 symengine-0.9.2 tweedledum-1.1.1 websocket-client-1.3.2 websockets-10.3\n"
          ]
        }
      ],
      "source": [
        "!pip install qiskit"
      ]
    },
    {
      "cell_type": "code",
      "source": [
        "from qiskit import QuantumCircuit,Aer,assemble\n",
        "\n",
        "from qiskit.visualization import plot_histogram,plot_bloch_multivector\n",
        "\n",
        "from math import pi\n",
        "\n",
        "sim = Aer.get_backend(\"aer_simulator\")"
      ],
      "metadata": {
        "id": "NfrMP4Q7S4em"
      },
      "execution_count": 2,
      "outputs": []
    },
    {
      "cell_type": "code",
      "source": [
        "def balanced_black_box(qc):\n",
        "  qc.cx(0,2)\n",
        "  qc.cx(1,2)\n",
        "  return qc\n",
        "\n",
        "def constant_black_box(qc):\n",
        "  return qc"
      ],
      "metadata": {
        "id": "GkhtvlSqTCiL"
      },
      "execution_count": 3,
      "outputs": []
    },
    {
      "cell_type": "code",
      "source": [
        "qc = QuantumCircuit(3,2)\n",
        "qc.x(2)\n",
        "qc.barrier()\n",
        "qc.h([0,1,2])\n",
        "qc.barrier()\n",
        "qc.barrier()\n",
        "qc = constant_black_box(qc)\n",
        "qc.barrier()\n",
        "qc.barrier()\n",
        "qc.h([0,1,2])\n",
        "qc.measure([0,1],[0,1])\n",
        "qc.draw()"
      ],
      "metadata": {
        "colab": {
          "base_uri": "https://localhost:8080/",
          "height": 156
        },
        "id": "ZmVnxFZ5TDnG",
        "outputId": "354879dc-6b0b-494c-e228-ed572c8778b3"
      },
      "execution_count": 4,
      "outputs": [
        {
          "output_type": "execute_result",
          "data": {
            "text/plain": [
              "           ░ ┌───┐ ░  ░  ░  ░ ┌───┐┌─┐   \n",
              "q_0: ──────░─┤ H ├─░──░──░──░─┤ H ├┤M├───\n",
              "           ░ ├───┤ ░  ░  ░  ░ ├───┤└╥┘┌─┐\n",
              "q_1: ──────░─┤ H ├─░──░──░──░─┤ H ├─╫─┤M├\n",
              "     ┌───┐ ░ ├───┤ ░  ░  ░  ░ ├───┤ ║ └╥┘\n",
              "q_2: ┤ X ├─░─┤ H ├─░──░──░──░─┤ H ├─╫──╫─\n",
              "     └───┘ ░ └───┘ ░  ░  ░  ░ └───┘ ║  ║ \n",
              "c: 2/═══════════════════════════════╩══╩═\n",
              "                                    0  1 "
            ],
            "text/html": [
              "<pre style=\"word-wrap: normal;white-space: pre;background: #fff0;line-height: 1.1;font-family: &quot;Courier New&quot;,Courier,monospace\">           ░ ┌───┐ ░  ░  ░  ░ ┌───┐┌─┐   \n",
              "q_0: ──────░─┤ H ├─░──░──░──░─┤ H ├┤M├───\n",
              "           ░ ├───┤ ░  ░  ░  ░ ├───┤└╥┘┌─┐\n",
              "q_1: ──────░─┤ H ├─░──░──░──░─┤ H ├─╫─┤M├\n",
              "     ┌───┐ ░ ├───┤ ░  ░  ░  ░ ├───┤ ║ └╥┘\n",
              "q_2: ┤ X ├─░─┤ H ├─░──░──░──░─┤ H ├─╫──╫─\n",
              "     └───┘ ░ └───┘ ░  ░  ░  ░ └───┘ ║  ║ \n",
              "c: 2/═══════════════════════════════╩══╩═\n",
              "                                    0  1 </pre>"
            ]
          },
          "metadata": {},
          "execution_count": 4
        }
      ]
    },
    {
      "cell_type": "code",
      "source": [
        "counts = sim.run(qc).result().get_counts()\n",
        "plot_histogram(counts)"
      ],
      "metadata": {
        "colab": {
          "base_uri": "https://localhost:8080/",
          "height": 331
        },
        "id": "Ma6w7nDBTLnG",
        "outputId": "5706ba32-9d48-4ea7-a324-c6c45c94fd41"
      },
      "execution_count": 5,
      "outputs": [
        {
          "output_type": "execute_result",
          "data": {
            "text/plain": [
              "<Figure size 504x360 with 1 Axes>"
            ],
            "image/png": "[encoded data removed]"
          },
          "metadata": {},
          "execution_count": 5
        }
      ]
    },
    {
      "cell_type": "code",
      "source": [
        ""
      ],
      "metadata": {
        "id": "koZEzbD0TMYp"
      },
      "execution_count": 5,
      "outputs": []
    },
    {
      "cell_type": "code",
      "source": [
        "qc = QuantumCircuit(3,2)\n",
        "qc.x(2)\n",
        "qc.barrier()\n",
        "qc.h([0,1,2])\n",
        "qc.barrier()\n",
        "qc.barrier()\n",
        "qc = balanced_black_box(qc)\n",
        "qc.barrier()\n",
        "qc.barrier()\n",
        "qc.h([0,1,2])\n",
        "qc.measure([0,1],[0,1])\n",
        "qc.draw()"
      ],
      "metadata": {
        "colab": {
          "base_uri": "https://localhost:8080/",
          "height": 156
        },
        "id": "QK0w_aqwTQAb",
        "outputId": "66b30c43-4ce9-4095-85f3-227d9a4982fc"
      },
      "execution_count": 6,
      "outputs": [
        {
          "output_type": "execute_result",
          "data": {
            "text/plain": [
              "           ░ ┌───┐ ░  ░            ░  ░ ┌───┐┌─┐   \n",
              "q_0: ──────░─┤ H ├─░──░───■────────░──░─┤ H ├┤M├───\n",
              "           ░ ├───┤ ░  ░   │        ░  ░ ├───┤└╥┘┌─┐\n",
              "q_1: ──────░─┤ H ├─░──░───┼────■───░──░─┤ H ├─╫─┤M├\n",
              "     ┌───┐ ░ ├───┤ ░  ░ ┌─┴─┐┌─┴─┐ ░  ░ ├───┤ ║ └╥┘\n",
              "q_2: ┤ X ├─░─┤ H ├─░──░─┤ X ├┤ X ├─░──░─┤ H ├─╫──╫─\n",
              "     └───┘ ░ └───┘ ░  ░ └───┘└───┘ ░  ░ └───┘ ║  ║ \n",
              "c: 2/═════════════════════════════════════════╩══╩═\n",
              "                                              0  1 "
            ],
            "text/html": [
              "<pre style=\"word-wrap: normal;white-space: pre;background: #fff0;line-height: 1.1;font-family: &quot;Courier New&quot;,Courier,monospace\">           ░ ┌───┐ ░  ░            ░  ░ ┌───┐┌─┐   \n",
              "q_0: ──────░─┤ H ├─░──░───■────────░──░─┤ H ├┤M├───\n",
              "           ░ ├───┤ ░  ░   │        ░  ░ ├───┤└╥┘┌─┐\n",
              "q_1: ──────░─┤ H ├─░──░───┼────■───░──░─┤ H ├─╫─┤M├\n",
              "     ┌───┐ ░ ├───┤ ░  ░ ┌─┴─┐┌─┴─┐ ░  ░ ├───┤ ║ └╥┘\n",
              "q_2: ┤ X ├─░─┤ H ├─░──░─┤ X ├┤ X ├─░──░─┤ H ├─╫──╫─\n",
              "     └───┘ ░ └───┘ ░  ░ └───┘└───┘ ░  ░ └───┘ ║  ║ \n",
              "c: 2/═════════════════════════════════════════╩══╩═\n",
              "                                              0  1 </pre>"
            ]
          },
          "metadata": {},
          "execution_count": 6
        }
      ]
    },
    {
      "cell_type": "code",
      "source": [
        "counts = sim.run(qc).result().get_counts()\n",
        "plot_histogram(counts)"
      ],
      "metadata": {
        "colab": {
          "base_uri": "https://localhost:8080/",
          "height": 331
        },
        "id": "G316dOcXTRQM",
        "outputId": "b17eee07-be1e-4c81-872c-e335efffa69f"
      },
      "execution_count": 7,
      "outputs": [
        {
          "output_type": "execute_result",
          "data": {
            "text/plain": [
              "<Figure size 504x360 with 1 Axes>"
            ],
            "image/png": "[encoded data removed]"
          },
          "metadata": {},
          "execution_count": 7
        }
      ]
    },
    {
      "cell_type": "code",
      "source": [
        ""
      ],
      "metadata": {
        "id": "qYLSA3ArTWdK"
      },
      "execution_count": null,
      "outputs": []
    }
  ]
}