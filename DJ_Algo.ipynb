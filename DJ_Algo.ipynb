{
  "nbformat": 4,
  "nbformat_minor": 0,
  "metadata": {
    "colab": {
      "name": "DJ_Algo.ipynb",
      "provenance": [],
      "collapsed_sections": [],
      "authorship_tag": "ABX9TyNOhInkH3BN8L5X2cy7Fmzi",
      "include_colab_link": true
    },
    "kernelspec": {
      "name": "python3",
      "display_name": "Python 3"
    },
    "language_info": {
      "name": "python"
    }
  },
  "cells": [
    {
      "cell_type": "markdown",
      "metadata": {
        "id": "view-in-github",
        "colab_type": "text"
      },
      "source": [
        "<a href=\"https://colab.research.google.com/github/parth1614/QuantumComputing-Qiskit/blob/main/DJ_Algo.ipynb\" target=\"_parent\"><img src=\"https://colab.research.google.com/assets/colab-badge.svg\" alt=\"Open In Colab\"/></a>"
      ]
    },
    {
      "cell_type": "code",
      "execution_count": 1,
      "metadata": {
        "colab": {
          "base_uri": "https://localhost:8080/"
        },
        "id": "8y2zOvaxYPKj",
        "outputId": "b4ecb00f-85cc-4774-bbae-d68853bd52ec"
      },
      "outputs": [
        {
          "output_type": "stream",
          "name": "stdout",
          "text": [
            "Collecting qiskit\n",
            "  Downloading qiskit-0.36.1.tar.gz (13 kB)\n",
            "Collecting qiskit-terra==0.20.1\n",
            "  Downloading qiskit_terra-0.20.1-cp37-cp37m-manylinux_2_17_x86_64.manylinux2014_x86_64.whl (6.5 MB)\n",
            "\u001b[K     |████████████████████████████████| 6.5 MB 4.1 MB/s \n",
            "\u001b[?25hCollecting qiskit-aer==0.10.4\n",
            "  Downloading qiskit_aer-0.10.4-cp37-cp37m-manylinux_2_12_x86_64.manylinux2010_x86_64.whl (18.0 MB)\n",
            "\u001b[K     |████████████████████████████████| 18.0 MB 42.1 MB/s \n",
            "\u001b[?25hCollecting qiskit-ibmq-provider==0.19.1\n",
            "  Downloading qiskit_ibmq_provider-0.19.1-py3-none-any.whl (240 kB)\n",
            "\u001b[K     |████████████████████████████████| 240 kB 51.1 MB/s \n",
            "\u001b[?25hCollecting qiskit-ignis==0.7.0\n",
            "  Downloading qiskit_ignis-0.7.0-py3-none-any.whl (200 kB)\n",
            "\u001b[K     |████████████████████████████████| 200 kB 53.2 MB/s \n",
            "\u001b[?25hRequirement already satisfied: numpy>=1.16.3 in /usr/local/lib/python3.7/dist-packages (from qiskit-aer==0.10.4->qiskit) (1.21.6)\n",
            "Requirement already satisfied: scipy>=1.0 in /usr/local/lib/python3.7/dist-packages (from qiskit-aer==0.10.4->qiskit) (1.4.1)\n",
            "Requirement already satisfied: urllib3>=1.21.1 in /usr/local/lib/python3.7/dist-packages (from qiskit-ibmq-provider==0.19.1->qiskit) (1.24.3)\n",
            "Requirement already satisfied: python-dateutil>=2.8.0 in /usr/local/lib/python3.7/dist-packages (from qiskit-ibmq-provider==0.19.1->qiskit) (2.8.2)\n",
            "Collecting requests-ntlm>=1.1.0\n",
            "  Downloading requests_ntlm-1.1.0-py2.py3-none-any.whl (5.7 kB)\n",
            "Collecting websocket-client>=1.0.1\n",
            "  Downloading websocket_client-1.3.2-py3-none-any.whl (54 kB)\n",
            "\u001b[K     |████████████████████████████████| 54 kB 3.0 MB/s \n",
            "\u001b[?25hRequirement already satisfied: requests>=2.19 in /usr/local/lib/python3.7/dist-packages (from qiskit-ibmq-provider==0.19.1->qiskit) (2.23.0)\n",
            "Collecting websockets>=10.0\n",
            "  Downloading websockets-10.3-cp37-cp37m-manylinux_2_5_x86_64.manylinux1_x86_64.manylinux_2_12_x86_64.manylinux2010_x86_64.whl (112 kB)\n",
            "\u001b[K     |████████████████████████████████| 112 kB 65.1 MB/s \n",
            "\u001b[?25hRequirement already satisfied: setuptools>=40.1.0 in /usr/local/lib/python3.7/dist-packages (from qiskit-ignis==0.7.0->qiskit) (57.4.0)\n",
            "Collecting retworkx>=0.8.0\n",
            "  Downloading retworkx-0.11.0-cp37-cp37m-manylinux_2_5_x86_64.manylinux1_x86_64.manylinux_2_12_x86_64.manylinux2010_x86_64.whl (1.6 MB)\n",
            "\u001b[K     |████████████████████████████████| 1.6 MB 44.0 MB/s \n",
            "\u001b[?25hRequirement already satisfied: psutil>=5 in /usr/local/lib/python3.7/dist-packages (from qiskit-terra==0.20.1->qiskit) (5.4.8)\n",
            "Collecting ply>=3.10\n",
            "  Downloading ply-3.11-py2.py3-none-any.whl (49 kB)\n",
            "\u001b[K     |████████████████████████████████| 49 kB 6.9 MB/s \n",
            "\u001b[?25hRequirement already satisfied: sympy>=1.3 in /usr/local/lib/python3.7/dist-packages (from qiskit-terra==0.20.1->qiskit) (1.7.1)\n",
            "Collecting python-constraint>=1.4\n",
            "  Downloading python-constraint-1.4.0.tar.bz2 (18 kB)\n",
            "Requirement already satisfied: dill>=0.3 in /usr/local/lib/python3.7/dist-packages (from qiskit-terra==0.20.1->qiskit) (0.3.4)\n",
            "Collecting tweedledum<2.0,>=1.1\n",
            "  Downloading tweedledum-1.1.1-cp37-cp37m-manylinux_2_12_x86_64.manylinux2010_x86_64.whl (943 kB)\n",
            "\u001b[K     |████████████████████████████████| 943 kB 43.9 MB/s \n",
            "\u001b[?25hCollecting scipy>=1.0\n",
            "  Downloading scipy-1.7.3-cp37-cp37m-manylinux_2_12_x86_64.manylinux2010_x86_64.whl (38.1 MB)\n",
            "\u001b[K     |████████████████████████████████| 38.1 MB 1.2 MB/s \n",
            "\u001b[?25hCollecting stevedore>=3.0.0\n",
            "  Downloading stevedore-3.5.0-py3-none-any.whl (49 kB)\n",
            "\u001b[K     |████████████████████████████████| 49 kB 6.8 MB/s \n",
            "\u001b[?25hCollecting symengine>=0.9\n",
            "  Downloading symengine-0.9.2-cp37-cp37m-manylinux2010_x86_64.whl (37.5 MB)\n",
            "\u001b[K     |████████████████████████████████| 37.5 MB 1.2 MB/s \n",
            "\u001b[?25hRequirement already satisfied: six>=1.5 in /usr/local/lib/python3.7/dist-packages (from python-dateutil>=2.8.0->qiskit-ibmq-provider==0.19.1->qiskit) (1.15.0)\n",
            "Requirement already satisfied: certifi>=2017.4.17 in /usr/local/lib/python3.7/dist-packages (from requests>=2.19->qiskit-ibmq-provider==0.19.1->qiskit) (2021.10.8)\n",
            "Requirement already satisfied: idna<3,>=2.5 in /usr/local/lib/python3.7/dist-packages (from requests>=2.19->qiskit-ibmq-provider==0.19.1->qiskit) (2.10)\n",
            "Requirement already satisfied: chardet<4,>=3.0.2 in /usr/local/lib/python3.7/dist-packages (from requests>=2.19->qiskit-ibmq-provider==0.19.1->qiskit) (3.0.4)\n",
            "Collecting cryptography>=1.3\n",
            "  Downloading cryptography-37.0.2-cp36-abi3-manylinux_2_24_x86_64.whl (4.0 MB)\n",
            "\u001b[K     |████████████████████████████████| 4.0 MB 47.8 MB/s \n",
            "\u001b[?25hCollecting ntlm-auth>=1.0.2\n",
            "  Downloading ntlm_auth-1.5.0-py2.py3-none-any.whl (29 kB)\n",
            "Requirement already satisfied: cffi>=1.12 in /usr/local/lib/python3.7/dist-packages (from cryptography>=1.3->requests-ntlm>=1.1.0->qiskit-ibmq-provider==0.19.1->qiskit) (1.15.0)\n",
            "Requirement already satisfied: pycparser in /usr/local/lib/python3.7/dist-packages (from cffi>=1.12->cryptography>=1.3->requests-ntlm>=1.1.0->qiskit-ibmq-provider==0.19.1->qiskit) (2.21)\n",
            "Requirement already satisfied: importlib-metadata>=1.7.0 in /usr/local/lib/python3.7/dist-packages (from stevedore>=3.0.0->qiskit-terra==0.20.1->qiskit) (4.11.3)\n",
            "Collecting pbr!=2.1.0,>=2.0.0\n",
            "  Downloading pbr-5.9.0-py2.py3-none-any.whl (112 kB)\n",
            "\u001b[K     |████████████████████████████████| 112 kB 42.3 MB/s \n",
            "\u001b[?25hRequirement already satisfied: typing-extensions>=3.6.4 in /usr/local/lib/python3.7/dist-packages (from importlib-metadata>=1.7.0->stevedore>=3.0.0->qiskit-terra==0.20.1->qiskit) (4.2.0)\n",
            "Requirement already satisfied: zipp>=0.5 in /usr/local/lib/python3.7/dist-packages (from importlib-metadata>=1.7.0->stevedore>=3.0.0->qiskit-terra==0.20.1->qiskit) (3.8.0)\n",
            "Requirement already satisfied: mpmath>=0.19 in /usr/local/lib/python3.7/dist-packages (from sympy>=1.3->qiskit-terra==0.20.1->qiskit) (1.2.1)\n",
            "Building wheels for collected packages: qiskit, python-constraint\n",
            "  Building wheel for qiskit (setup.py) ... \u001b[?25l\u001b[?25hdone\n",
            "  Created wheel for qiskit: filename=qiskit-0.36.1-py3-none-any.whl size=11887 sha256=d0a6d0dd82886993426ce16fc853c6124f1e0bc0ac45c7e14c5924b3222dbf98\n",
            "  Stored in directory: /root/.cache/pip/wheels/16/d2/58/340c0b0c7701a58b596126e5eb31c347c8dbfda8b949a555bd\n",
            "  Building wheel for python-constraint (setup.py) ... \u001b[?25l\u001b[?25hdone\n",
            "  Created wheel for python-constraint: filename=python_constraint-1.4.0-py2.py3-none-any.whl size=24081 sha256=9cc971537cc592f661686ad5c526da971738d773363f1204006593758d4aad42\n",
            "  Stored in directory: /root/.cache/pip/wheels/07/27/db/1222c80eb1e431f3d2199c12569cb1cac60f562a451fe30479\n",
            "Successfully built qiskit python-constraint\n",
            "Installing collected packages: pbr, tweedledum, symengine, stevedore, scipy, retworkx, python-constraint, ply, ntlm-auth, cryptography, websockets, websocket-client, requests-ntlm, qiskit-terra, qiskit-ignis, qiskit-ibmq-provider, qiskit-aer, qiskit\n",
            "  Attempting uninstall: scipy\n",
            "    Found existing installation: scipy 1.4.1\n",
            "    Uninstalling scipy-1.4.1:\n",
            "      Successfully uninstalled scipy-1.4.1\n",
            "\u001b[31mERROR: pip's dependency resolver does not currently take into account all the packages that are installed. This behaviour is the source of the following dependency conflicts.\n",
            "albumentations 0.1.12 requires imgaug<0.2.7,>=0.2.5, but you have imgaug 0.2.9 which is incompatible.\u001b[0m\n",
            "Successfully installed cryptography-37.0.2 ntlm-auth-1.5.0 pbr-5.9.0 ply-3.11 python-constraint-1.4.0 qiskit-0.36.1 qiskit-aer-0.10.4 qiskit-ibmq-provider-0.19.1 qiskit-ignis-0.7.0 qiskit-terra-0.20.1 requests-ntlm-1.1.0 retworkx-0.11.0 scipy-1.7.3 stevedore-3.5.0 symengine-0.9.2 tweedledum-1.1.1 websocket-client-1.3.2 websockets-10.3\n"
          ]
        }
      ],
      "source": [
        "!pip install qiskit\n",
        "from qiskit import QuantumCircuit, assemble, Aer\n",
        "from qiskit.visualization import plot_histogram, plot_bloch_vector"
      ]
    },
    {
      "cell_type": "code",
      "source": [
        "from qiskit.visualization import plot_bloch_multivector\n",
        "#from matplotlib import style\n",
        "import math\n",
        "import numpy as np"
      ],
      "metadata": {
        "id": "j3p45P1PcwL6"
      },
      "execution_count": 2,
      "outputs": []
    },
    {
      "cell_type": "code",
      "source": [
        "qasm_sim = Aer.get_backend('qasm_simulator')\n",
        "##statevec_sim = Aer.get_backend('statevector_simulator')"
      ],
      "metadata": {
        "id": "rEq4vQBNm-uZ"
      },
      "execution_count": 3,
      "outputs": []
    },
    {
      "cell_type": "code",
      "source": [
        "##setting the length of input string\n",
        "n = 3 "
      ],
      "metadata": {
        "id": "b89Mykf3Du29"
      },
      "execution_count": 5,
      "outputs": []
    },
    {
      "cell_type": "code",
      "source": [
        "constant_black_box = QuantumCircuit(n+1)\n",
        "output = np.random.randint(2) ##generating random integer\n",
        "if output == 1:\n",
        "  constant_black_box.x(n)\n",
        "\n",
        "constant_black_box.draw()\n"
      ],
      "metadata": {
        "colab": {
          "base_uri": "https://localhost:8080/",
          "height": 156
        },
        "id": "pEUICQF5nXRJ",
        "outputId": "27d7b821-018e-4de7-cd2f-dd61f072fada"
      },
      "execution_count": 6,
      "outputs": [
        {
          "output_type": "execute_result",
          "data": {
            "text/plain": [
              "     \n",
              "q_0: \n",
              "     \n",
              "q_1: \n",
              "     \n",
              "q_2: \n",
              "     \n",
              "q_3: \n",
              "     "
            ],
            "text/html": [
              "<pre style=\"word-wrap: normal;white-space: pre;background: #fff0;line-height: 1.1;font-family: &quot;Courier New&quot;,Courier,monospace\">     \n",
              "q_0: \n",
              "     \n",
              "q_1: \n",
              "     \n",
              "q_2: \n",
              "     \n",
              "q_3: \n",
              "     </pre>"
            ]
          },
          "metadata": {},
          "execution_count": 6
        }
      ]
    },
    {
      "cell_type": "code",
      "source": [
        "balanced_black_box = QuantumCircuit(n+1)\n",
        "balanced_string = \"101\"\n",
        "\n",
        "for qubit in range(len(balanced_string)):\n",
        "  if balanced_string[qubit] == '1':\n",
        "    balanced_black_box.x(qubit)\n",
        "\n",
        "balanced_black_box.barrier()\n",
        "\n",
        "for qubits in range(n):\n",
        "  balanced_black_box.cx(qubit,n)\n",
        "\n",
        "balanced_black_box.barrier()\n",
        "\n",
        "for qubits in range(len(balanced_string)):\n",
        "  if balanced_string[qubit] == '1':\n",
        "    balanced_black_box.x(qubit)\n",
        "\n",
        "balanced_black_box.draw()"
      ],
      "metadata": {
        "colab": {
          "base_uri": "https://localhost:8080/",
          "height": 156
        },
        "id": "_l7JDu7jJskr",
        "outputId": "0861f049-31ee-40d9-9200-16e59bf4964a"
      },
      "execution_count": 8,
      "outputs": [
        {
          "output_type": "execute_result",
          "data": {
            "text/plain": [
              "     ┌───┐ ░                 ░                \n",
              "q_0: ┤ X ├─░─────────────────░────────────────\n",
              "     └───┘ ░                 ░                \n",
              "q_1: ──────░─────────────────░────────────────\n",
              "     ┌───┐ ░                 ░ ┌───┐┌───┐┌───┐\n",
              "q_2: ┤ X ├─░───■────■────■───░─┤ X ├┤ X ├┤ X ├\n",
              "     └───┘ ░ ┌─┴─┐┌─┴─┐┌─┴─┐ ░ └───┘└───┘└───┘\n",
              "q_3: ──────░─┤ X ├┤ X ├┤ X ├─░────────────────\n",
              "           ░ └───┘└───┘└───┘ ░                "
            ],
            "text/html": [
              "<pre style=\"word-wrap: normal;white-space: pre;background: #fff0;line-height: 1.1;font-family: &quot;Courier New&quot;,Courier,monospace\">     ┌───┐ ░                 ░                \n",
              "q_0: ┤ X ├─░─────────────────░────────────────\n",
              "     └───┘ ░                 ░                \n",
              "q_1: ──────░─────────────────░────────────────\n",
              "     ┌───┐ ░                 ░ ┌───┐┌───┐┌───┐\n",
              "q_2: ┤ X ├─░───■────■────■───░─┤ X ├┤ X ├┤ X ├\n",
              "     └───┘ ░ ┌─┴─┐┌─┴─┐┌─┴─┐ ░ └───┘└───┘└───┘\n",
              "q_3: ──────░─┤ X ├┤ X ├┤ X ├─░────────────────\n",
              "           ░ └───┘└───┘└───┘ ░                </pre>"
            ]
          },
          "metadata": {},
          "execution_count": 8
        }
      ]
    },
    {
      "cell_type": "code",
      "source": [
        "deu = QuantumCircuit((n+1),n)\n",
        "\n",
        "for qubit in range(n):\n",
        "  deu.h(qubit)\n",
        "\n",
        "deu.x(n)\n",
        "deu.h(n)\n",
        "deu.draw()"
      ],
      "metadata": {
        "colab": {
          "base_uri": "https://localhost:8080/",
          "height": 186
        },
        "id": "GFpTKP6SLrfS",
        "outputId": "ee021ba8-2d91-40a3-a111-4072d4ed7ef1"
      },
      "execution_count": 9,
      "outputs": [
        {
          "output_type": "execute_result",
          "data": {
            "text/plain": [
              "     ┌───┐     \n",
              "q_0: ┤ H ├─────\n",
              "     ├───┤     \n",
              "q_1: ┤ H ├─────\n",
              "     ├───┤     \n",
              "q_2: ┤ H ├─────\n",
              "     ├───┤┌───┐\n",
              "q_3: ┤ X ├┤ H ├\n",
              "     └───┘└───┘\n",
              "c: 3/══════════\n",
              "               "
            ],
            "text/html": [
              "<pre style=\"word-wrap: normal;white-space: pre;background: #fff0;line-height: 1.1;font-family: &quot;Courier New&quot;,Courier,monospace\">     ┌───┐     \n",
              "q_0: ┤ H ├─────\n",
              "     ├───┤     \n",
              "q_1: ┤ H ├─────\n",
              "     ├───┤     \n",
              "q_2: ┤ H ├─────\n",
              "     ├───┤┌───┐\n",
              "q_3: ┤ X ├┤ H ├\n",
              "     └───┘└───┘\n",
              "c: 3/══════════\n",
              "               </pre>"
            ]
          },
          "metadata": {},
          "execution_count": 9
        }
      ]
    },
    {
      "cell_type": "code",
      "source": [
        "deu += balanced_black_box\n",
        "deu.draw()"
      ],
      "metadata": {
        "colab": {
          "base_uri": "https://localhost:8080/",
          "height": 410
        },
        "id": "YT8TxjoGPZIj",
        "outputId": "4fd62ad6-1d63-4a56-a21a-2a796446414d"
      },
      "execution_count": 21,
      "outputs": [
        {
          "output_type": "stream",
          "name": "stderr",
          "text": [
            "/usr/local/lib/python3.7/dist-packages/ipykernel_launcher.py:1: DeprecationWarning: The QuantumCircuit.__iadd__() method is being deprecated. Use the compose() (potentially with the inplace=True argument) and tensor() methods which are more flexible w.r.t circuit register compatibility.\n",
            "  \"\"\"Entry point for launching an IPython kernel.\n"
          ]
        },
        {
          "output_type": "execute_result",
          "data": {
            "text/plain": [
              "     ┌───┐┌───┐ ░                 ░                 ░ ┌─┐                     »\n",
              "q_0: ┤ H ├┤ X ├─░─────────────────░─────────────────░─┤M├─────────────────────»\n",
              "     ├───┤└───┘ ░                 ░                 ░ └╥┘┌─┐                  »\n",
              "q_1: ┤ H ├──────░─────────────────░─────────────────░──╫─┤M├──────────────────»\n",
              "     ├───┤┌───┐ ░                 ░ ┌───┐┌───┐┌───┐ ░  ║ └╥┘┌─┐               »\n",
              "q_2: ┤ H ├┤ X ├─░───■────■────■───░─┤ X ├┤ X ├┤ X ├─░──╫──╫─┤M├───────────────»\n",
              "     ├───┤├───┤ ░ ┌─┴─┐┌─┴─┐┌─┴─┐ ░ ├───┤├───┤├───┤ ░  ║  ║ └╥┘┌───┐┌───┐┌───┐»\n",
              "q_3: ┤ X ├┤ H ├─░─┤ X ├┤ X ├┤ X ├─░─┤ H ├┤ H ├┤ H ├─░──╫──╫──╫─┤ H ├┤ H ├┤ H ├»\n",
              "     └───┘└───┘ ░ └───┘└───┘└───┘ ░ └───┘└───┘└───┘ ░  ║  ║  ║ └───┘└───┘└───┘»\n",
              "c: 3/══════════════════════════════════════════════════╩══╩══╩════════════════»\n",
              "                                                       0  1  2                »\n",
              "«      ░ ┌─┐┌───┐         ░                 ░                \n",
              "«q_0: ─░─┤M├┤ X ├─────────░─────────────────░────────────────\n",
              "«      ░ └╥┘└┬─┬┘         ░                 ░                \n",
              "«q_1: ─░──╫──┤M├──────────░─────────────────░────────────────\n",
              "«      ░  ║  └╥┘ ┌─┐┌───┐ ░                 ░ ┌───┐┌───┐┌───┐\n",
              "«q_2: ─░──╫───╫──┤M├┤ X ├─░───■────■────■───░─┤ X ├┤ X ├┤ X ├\n",
              "«      ░  ║   ║  └╥┘└───┘ ░ ┌─┴─┐┌─┴─┐┌─┴─┐ ░ └───┘└───┘└───┘\n",
              "«q_3: ─░──╫───╫───╫───────░─┤ X ├┤ X ├┤ X ├─░────────────────\n",
              "«      ░  ║   ║   ║       ░ └───┘└───┘└───┘ ░                \n",
              "«c: 3/════╩═══╩═══╩══════════════════════════════════════════\n",
              "«         0   1   2                                          "
            ],
            "text/html": [
              "<pre style=\"word-wrap: normal;white-space: pre;background: #fff0;line-height: 1.1;font-family: &quot;Courier New&quot;,Courier,monospace\">     ┌───┐┌───┐ ░                 ░                 ░ ┌─┐                     »\n",
              "q_0: ┤ H ├┤ X ├─░─────────────────░─────────────────░─┤M├─────────────────────»\n",
              "     ├───┤└───┘ ░                 ░                 ░ └╥┘┌─┐                  »\n",
              "q_1: ┤ H ├──────░─────────────────░─────────────────░──╫─┤M├──────────────────»\n",
              "     ├───┤┌───┐ ░                 ░ ┌───┐┌───┐┌───┐ ░  ║ └╥┘┌─┐               »\n",
              "q_2: ┤ H ├┤ X ├─░───■────■────■───░─┤ X ├┤ X ├┤ X ├─░──╫──╫─┤M├───────────────»\n",
              "     ├───┤├───┤ ░ ┌─┴─┐┌─┴─┐┌─┴─┐ ░ ├───┤├───┤├───┤ ░  ║  ║ └╥┘┌───┐┌───┐┌───┐»\n",
              "q_3: ┤ X ├┤ H ├─░─┤ X ├┤ X ├┤ X ├─░─┤ H ├┤ H ├┤ H ├─░──╫──╫──╫─┤ H ├┤ H ├┤ H ├»\n",
              "     └───┘└───┘ ░ └───┘└───┘└───┘ ░ └───┘└───┘└───┘ ░  ║  ║  ║ └───┘└───┘└───┘»\n",
              "c: 3/══════════════════════════════════════════════════╩══╩══╩════════════════»\n",
              "                                                       0  1  2                »\n",
              "«      ░ ┌─┐┌───┐         ░                 ░                \n",
              "«q_0: ─░─┤M├┤ X ├─────────░─────────────────░────────────────\n",
              "«      ░ └╥┘└┬─┬┘         ░                 ░                \n",
              "«q_1: ─░──╫──┤M├──────────░─────────────────░────────────────\n",
              "«      ░  ║  └╥┘ ┌─┐┌───┐ ░                 ░ ┌───┐┌───┐┌───┐\n",
              "«q_2: ─░──╫───╫──┤M├┤ X ├─░───■────■────■───░─┤ X ├┤ X ├┤ X ├\n",
              "«      ░  ║   ║  └╥┘└───┘ ░ ┌─┴─┐┌─┴─┐┌─┴─┐ ░ └───┘└───┘└───┘\n",
              "«q_3: ─░──╫───╫───╫───────░─┤ X ├┤ X ├┤ X ├─░────────────────\n",
              "«      ░  ║   ║   ║       ░ └───┘└───┘└───┘ ░                \n",
              "«c: 3/════╩═══╩═══╩══════════════════════════════════════════\n",
              "«         0   1   2                                          </pre>"
            ]
          },
          "metadata": {},
          "execution_count": 21
        }
      ]
    },
    {
      "cell_type": "code",
      "source": [
        "## Adding constant black box in dj circuit\n",
        "\n",
        "# deu += constant_black_box\n",
        "# deu.draw()\n"
      ],
      "metadata": {
        "id": "1N_impjMPleN"
      },
      "execution_count": 22,
      "outputs": []
    },
    {
      "cell_type": "code",
      "source": [
        "for qubit in range(n):\n",
        "  deu.h(n)\n",
        "deu.barrier()\n",
        "\n",
        "for i in range(n):\n",
        "  deu.measure(i,i)\n",
        "\n",
        "deu.draw()"
      ],
      "metadata": {
        "colab": {
          "base_uri": "https://localhost:8080/",
          "height": 356
        },
        "id": "gO24wuv8QEvs",
        "outputId": "fdd2b637-a137-476d-cc04-2a1d5991cf9a"
      },
      "execution_count": 23,
      "outputs": [
        {
          "output_type": "execute_result",
          "data": {
            "text/plain": [
              "     ┌───┐┌───┐ ░                 ░                 ░ ┌─┐                     »\n",
              "q_0: ┤ H ├┤ X ├─░─────────────────░─────────────────░─┤M├─────────────────────»\n",
              "     ├───┤└───┘ ░                 ░                 ░ └╥┘┌─┐                  »\n",
              "q_1: ┤ H ├──────░─────────────────░─────────────────░──╫─┤M├──────────────────»\n",
              "     ├───┤┌───┐ ░                 ░ ┌───┐┌───┐┌───┐ ░  ║ └╥┘┌─┐               »\n",
              "q_2: ┤ H ├┤ X ├─░───■────■────■───░─┤ X ├┤ X ├┤ X ├─░──╫──╫─┤M├───────────────»\n",
              "     ├───┤├───┤ ░ ┌─┴─┐┌─┴─┐┌─┴─┐ ░ ├───┤├───┤├───┤ ░  ║  ║ └╥┘┌───┐┌───┐┌───┐»\n",
              "q_3: ┤ X ├┤ H ├─░─┤ X ├┤ X ├┤ X ├─░─┤ H ├┤ H ├┤ H ├─░──╫──╫──╫─┤ H ├┤ H ├┤ H ├»\n",
              "     └───┘└───┘ ░ └───┘└───┘└───┘ ░ └───┘└───┘└───┘ ░  ║  ║  ║ └───┘└───┘└───┘»\n",
              "c: 3/══════════════════════════════════════════════════╩══╩══╩════════════════»\n",
              "                                                       0  1  2                »\n",
              "«      ░ ┌─┐┌───┐         ░                 ░                 ░ ┌─┐      \n",
              "«q_0: ─░─┤M├┤ X ├─────────░─────────────────░─────────────────░─┤M├──────\n",
              "«      ░ └╥┘└┬─┬┘         ░                 ░                 ░ └╥┘┌─┐   \n",
              "«q_1: ─░──╫──┤M├──────────░─────────────────░─────────────────░──╫─┤M├───\n",
              "«      ░  ║  └╥┘ ┌─┐┌───┐ ░                 ░ ┌───┐┌───┐┌───┐ ░  ║ └╥┘┌─┐\n",
              "«q_2: ─░──╫───╫──┤M├┤ X ├─░───■────■────■───░─┤ X ├┤ X ├┤ X ├─░──╫──╫─┤M├\n",
              "«      ░  ║   ║  └╥┘└───┘ ░ ┌─┴─┐┌─┴─┐┌─┴─┐ ░ ├───┤├───┤├───┤ ░  ║  ║ └╥┘\n",
              "«q_3: ─░──╫───╫───╫───────░─┤ X ├┤ X ├┤ X ├─░─┤ H ├┤ H ├┤ H ├─░──╫──╫──╫─\n",
              "«      ░  ║   ║   ║       ░ └───┘└───┘└───┘ ░ └───┘└───┘└───┘ ░  ║  ║  ║ \n",
              "«c: 3/════╩═══╩═══╩══════════════════════════════════════════════╩══╩══╩═\n",
              "«         0   1   2                                              0  1  2 "
            ],
            "text/html": [
              "<pre style=\"word-wrap: normal;white-space: pre;background: #fff0;line-height: 1.1;font-family: &quot;Courier New&quot;,Courier,monospace\">     ┌───┐┌───┐ ░                 ░                 ░ ┌─┐                     »\n",
              "q_0: ┤ H ├┤ X ├─░─────────────────░─────────────────░─┤M├─────────────────────»\n",
              "     ├───┤└───┘ ░                 ░                 ░ └╥┘┌─┐                  »\n",
              "q_1: ┤ H ├──────░─────────────────░─────────────────░──╫─┤M├──────────────────»\n",
              "     ├───┤┌───┐ ░                 ░ ┌───┐┌───┐┌───┐ ░  ║ └╥┘┌─┐               »\n",
              "q_2: ┤ H ├┤ X ├─░───■────■────■───░─┤ X ├┤ X ├┤ X ├─░──╫──╫─┤M├───────────────»\n",
              "     ├───┤├───┤ ░ ┌─┴─┐┌─┴─┐┌─┴─┐ ░ ├───┤├───┤├───┤ ░  ║  ║ └╥┘┌───┐┌───┐┌───┐»\n",
              "q_3: ┤ X ├┤ H ├─░─┤ X ├┤ X ├┤ X ├─░─┤ H ├┤ H ├┤ H ├─░──╫──╫──╫─┤ H ├┤ H ├┤ H ├»\n",
              "     └───┘└───┘ ░ └───┘└───┘└───┘ ░ └───┘└───┘└───┘ ░  ║  ║  ║ └───┘└───┘└───┘»\n",
              "c: 3/══════════════════════════════════════════════════╩══╩══╩════════════════»\n",
              "                                                       0  1  2                »\n",
              "«      ░ ┌─┐┌───┐         ░                 ░                 ░ ┌─┐      \n",
              "«q_0: ─░─┤M├┤ X ├─────────░─────────────────░─────────────────░─┤M├──────\n",
              "«      ░ └╥┘└┬─┬┘         ░                 ░                 ░ └╥┘┌─┐   \n",
              "«q_1: ─░──╫──┤M├──────────░─────────────────░─────────────────░──╫─┤M├───\n",
              "«      ░  ║  └╥┘ ┌─┐┌───┐ ░                 ░ ┌───┐┌───┐┌───┐ ░  ║ └╥┘┌─┐\n",
              "«q_2: ─░──╫───╫──┤M├┤ X ├─░───■────■────■───░─┤ X ├┤ X ├┤ X ├─░──╫──╫─┤M├\n",
              "«      ░  ║   ║  └╥┘└───┘ ░ ┌─┴─┐┌─┴─┐┌─┴─┐ ░ ├───┤├───┤├───┤ ░  ║  ║ └╥┘\n",
              "«q_3: ─░──╫───╫───╫───────░─┤ X ├┤ X ├┤ X ├─░─┤ H ├┤ H ├┤ H ├─░──╫──╫──╫─\n",
              "«      ░  ║   ║   ║       ░ └───┘└───┘└───┘ ░ └───┘└───┘└───┘ ░  ║  ║  ║ \n",
              "«c: 3/════╩═══╩═══╩══════════════════════════════════════════════╩══╩══╩═\n",
              "«         0   1   2                                              0  1  2 </pre>"
            ]
          },
          "metadata": {},
          "execution_count": 23
        }
      ]
    },
    {
      "cell_type": "code",
      "source": [
        "from qiskit import execute"
      ],
      "metadata": {
        "id": "ZwOFJzCXRVFq"
      },
      "execution_count": 24,
      "outputs": []
    },
    {
      "cell_type": "code",
      "source": [
        "shots = 1024\n",
        "results = execute(deu,backend = qasm_sim,shots=shots).result()\n",
        "answer = results.get_counts()\n",
        "plot_histogram(answer)"
      ],
      "metadata": {
        "colab": {
          "base_uri": "https://localhost:8080/",
          "height": 340
        },
        "id": "GNcFSMneQZz0",
        "outputId": "6a68f08a-3d8d-4085-eac1-930d1f662043"
      },
      "execution_count": 25,
      "outputs": [
        {
          "output_type": "execute_result",
          "data": {
            "text/plain": [
              "<Figure size 504x360 with 1 Axes>"
            ],
            "image/png": "[encoded data removed]"
          },
          "metadata": {},
          "execution_count": 25
        }
      ]
    },
    {
      "cell_type": "code",
      "source": [
        ""
      ],
      "metadata": {
        "id": "AqDMCmpsRKR_"
      },
      "execution_count": null,
      "outputs": []
    }
  ]
}