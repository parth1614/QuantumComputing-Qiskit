{
  "nbformat": 4,
  "nbformat_minor": 0,
  "metadata": {
    "colab": {
      "name": "CNOT-gate.ipynb",
      "provenance": [],
      "authorship_tag": "ABX9TyNCrbbb30igy6gxpN4bSncH",
      "include_colab_link": true
    },
    "kernelspec": {
      "name": "python3",
      "display_name": "Python 3"
    },
    "language_info": {
      "name": "python"
    }
  },
  "cells": [
    {
      "cell_type": "markdown",
      "metadata": {
        "id": "view-in-github",
        "colab_type": "text"
      },
      "source": [
        "<a href=\"https://colab.research.google.com/github/parth1614/QuantumComputing-Qiskit/blob/main/CNOT_gate.ipynb\" target=\"_parent\"><img src=\"https://colab.research.google.com/assets/colab-badge.svg\" alt=\"Open In Colab\"/></a>"
      ]
    },
    {
      "cell_type": "code",
      "source": [
        "!pip install qiskit"
      ],
      "metadata": {
        "colab": {
          "base_uri": "https://localhost:8080/"
        },
        "id": "-BXYFoXnEB8V",
        "outputId": "f619ba1b-93bf-49f8-9c13-f8f02280f657"
      },
      "execution_count": 2,
      "outputs": [
        {
          "output_type": "stream",
          "name": "stdout",
          "text": [
            "Collecting qiskit\n",
            "  Downloading qiskit-0.34.2.tar.gz (13 kB)\n",
            "Collecting qiskit-terra==0.19.2\n",
            "  Downloading qiskit_terra-0.19.2-cp37-cp37m-manylinux_2_12_x86_64.manylinux2010_x86_64.whl (6.5 MB)\n",
            "\u001b[K     |████████████████████████████████| 6.5 MB 4.6 MB/s \n",
            "\u001b[?25hCollecting qiskit-aer==0.10.3\n",
            "  Downloading qiskit_aer-0.10.3-cp37-cp37m-manylinux_2_12_x86_64.manylinux2010_x86_64.whl (18.0 MB)\n",
            "\u001b[K     |████████████████████████████████| 18.0 MB 87 kB/s \n",
            "\u001b[?25hCollecting qiskit-ibmq-provider==0.18.3\n",
            "  Downloading qiskit_ibmq_provider-0.18.3-py3-none-any.whl (238 kB)\n",
            "\u001b[K     |████████████████████████████████| 238 kB 35.7 MB/s \n",
            "\u001b[?25hCollecting qiskit-ignis==0.7.0\n",
            "  Downloading qiskit_ignis-0.7.0-py3-none-any.whl (200 kB)\n",
            "\u001b[K     |████████████████████████████████| 200 kB 72.6 MB/s \n",
            "\u001b[?25hRequirement already satisfied: numpy>=1.16.3 in /usr/local/lib/python3.7/dist-packages (from qiskit-aer==0.10.3->qiskit) (1.21.5)\n",
            "Requirement already satisfied: scipy>=1.0 in /usr/local/lib/python3.7/dist-packages (from qiskit-aer==0.10.3->qiskit) (1.4.1)\n",
            "Collecting requests-ntlm>=1.1.0\n",
            "  Downloading requests_ntlm-1.1.0-py2.py3-none-any.whl (5.7 kB)\n",
            "Requirement already satisfied: urllib3>=1.21.1 in /usr/local/lib/python3.7/dist-packages (from qiskit-ibmq-provider==0.18.3->qiskit) (1.24.3)\n",
            "Collecting websocket-client>=1.0.1\n",
            "  Downloading websocket_client-1.3.1-py3-none-any.whl (54 kB)\n",
            "\u001b[K     |████████████████████████████████| 54 kB 2.5 MB/s \n",
            "\u001b[?25hRequirement already satisfied: requests>=2.19 in /usr/local/lib/python3.7/dist-packages (from qiskit-ibmq-provider==0.18.3->qiskit) (2.23.0)\n",
            "Requirement already satisfied: python-dateutil>=2.8.0 in /usr/local/lib/python3.7/dist-packages (from qiskit-ibmq-provider==0.18.3->qiskit) (2.8.2)\n",
            "Collecting retworkx>=0.8.0\n",
            "  Downloading retworkx-0.11.0-cp37-cp37m-manylinux_2_5_x86_64.manylinux1_x86_64.manylinux_2_12_x86_64.manylinux2010_x86_64.whl (1.6 MB)\n",
            "\u001b[K     |████████████████████████████████| 1.6 MB 46.0 MB/s \n",
            "\u001b[?25hRequirement already satisfied: setuptools>=40.1.0 in /usr/local/lib/python3.7/dist-packages (from qiskit-ignis==0.7.0->qiskit) (57.4.0)\n",
            "Requirement already satisfied: sympy>=1.3 in /usr/local/lib/python3.7/dist-packages (from qiskit-terra==0.19.2->qiskit) (1.7.1)\n",
            "Collecting tweedledum<2.0,>=1.1\n",
            "  Downloading tweedledum-1.1.1-cp37-cp37m-manylinux_2_12_x86_64.manylinux2010_x86_64.whl (943 kB)\n",
            "\u001b[K     |████████████████████████████████| 943 kB 51.4 MB/s \n",
            "\u001b[?25hCollecting ply>=3.10\n",
            "  Downloading ply-3.11-py2.py3-none-any.whl (49 kB)\n",
            "\u001b[K     |████████████████████████████████| 49 kB 4.8 MB/s \n",
            "\u001b[?25hCollecting symengine>=0.8\n",
            "  Downloading symengine-0.9.2-cp37-cp37m-manylinux2010_x86_64.whl (37.5 MB)\n",
            "\u001b[K     |████████████████████████████████| 37.5 MB 39 kB/s \n",
            "\u001b[?25hRequirement already satisfied: dill>=0.3 in /usr/local/lib/python3.7/dist-packages (from qiskit-terra==0.19.2->qiskit) (0.3.4)\n",
            "Collecting python-constraint>=1.4\n",
            "  Downloading python-constraint-1.4.0.tar.bz2 (18 kB)\n",
            "Collecting scipy>=1.0\n",
            "  Downloading scipy-1.7.3-cp37-cp37m-manylinux_2_12_x86_64.manylinux2010_x86_64.whl (38.1 MB)\n",
            "\u001b[K     |████████████████████████████████| 38.1 MB 120 kB/s \n",
            "\u001b[?25hCollecting stevedore>=3.0.0\n",
            "  Downloading stevedore-3.5.0-py3-none-any.whl (49 kB)\n",
            "\u001b[K     |████████████████████████████████| 49 kB 4.1 MB/s \n",
            "\u001b[?25hRequirement already satisfied: psutil>=5 in /usr/local/lib/python3.7/dist-packages (from qiskit-terra==0.19.2->qiskit) (5.4.8)\n",
            "Requirement already satisfied: six>=1.5 in /usr/local/lib/python3.7/dist-packages (from python-dateutil>=2.8.0->qiskit-ibmq-provider==0.18.3->qiskit) (1.15.0)\n",
            "Requirement already satisfied: certifi>=2017.4.17 in /usr/local/lib/python3.7/dist-packages (from requests>=2.19->qiskit-ibmq-provider==0.18.3->qiskit) (2021.10.8)\n",
            "Requirement already satisfied: chardet<4,>=3.0.2 in /usr/local/lib/python3.7/dist-packages (from requests>=2.19->qiskit-ibmq-provider==0.18.3->qiskit) (3.0.4)\n",
            "Requirement already satisfied: idna<3,>=2.5 in /usr/local/lib/python3.7/dist-packages (from requests>=2.19->qiskit-ibmq-provider==0.18.3->qiskit) (2.10)\n",
            "Collecting cryptography>=1.3\n",
            "  Downloading cryptography-36.0.2-cp36-abi3-manylinux_2_24_x86_64.whl (3.6 MB)\n",
            "\u001b[K     |████████████████████████████████| 3.6 MB 51.4 MB/s \n",
            "\u001b[?25hCollecting ntlm-auth>=1.0.2\n",
            "  Downloading ntlm_auth-1.5.0-py2.py3-none-any.whl (29 kB)\n",
            "Requirement already satisfied: cffi>=1.12 in /usr/local/lib/python3.7/dist-packages (from cryptography>=1.3->requests-ntlm>=1.1.0->qiskit-ibmq-provider==0.18.3->qiskit) (1.15.0)\n",
            "Requirement already satisfied: pycparser in /usr/local/lib/python3.7/dist-packages (from cffi>=1.12->cryptography>=1.3->requests-ntlm>=1.1.0->qiskit-ibmq-provider==0.18.3->qiskit) (2.21)\n",
            "Collecting pbr!=2.1.0,>=2.0.0\n",
            "  Downloading pbr-5.8.1-py2.py3-none-any.whl (113 kB)\n",
            "\u001b[K     |████████████████████████████████| 113 kB 53.2 MB/s \n",
            "\u001b[?25hRequirement already satisfied: importlib-metadata>=1.7.0 in /usr/local/lib/python3.7/dist-packages (from stevedore>=3.0.0->qiskit-terra==0.19.2->qiskit) (4.11.2)\n",
            "Requirement already satisfied: zipp>=0.5 in /usr/local/lib/python3.7/dist-packages (from importlib-metadata>=1.7.0->stevedore>=3.0.0->qiskit-terra==0.19.2->qiskit) (3.7.0)\n",
            "Requirement already satisfied: typing-extensions>=3.6.4 in /usr/local/lib/python3.7/dist-packages (from importlib-metadata>=1.7.0->stevedore>=3.0.0->qiskit-terra==0.19.2->qiskit) (3.10.0.2)\n",
            "Requirement already satisfied: mpmath>=0.19 in /usr/local/lib/python3.7/dist-packages (from sympy>=1.3->qiskit-terra==0.19.2->qiskit) (1.2.1)\n",
            "Building wheels for collected packages: qiskit, python-constraint\n",
            "  Building wheel for qiskit (setup.py) ... \u001b[?25l\u001b[?25hdone\n",
            "  Created wheel for qiskit: filename=qiskit-0.34.2-py3-none-any.whl size=11805 sha256=86bf40597bf6a339a290906585d04d02b59ae72f513308d837421b64aa1ea56b\n",
            "  Stored in directory: /root/.cache/pip/wheels/62/77/65/cda6eedfdd2a525bd3f479a4386930ae3088a1eb01f8c944ed\n",
            "  Building wheel for python-constraint (setup.py) ... \u001b[?25l\u001b[?25hdone\n",
            "  Created wheel for python-constraint: filename=python_constraint-1.4.0-py2.py3-none-any.whl size=24081 sha256=e58230bcfdca1f0a25d09b7977b1ccb74deef36e568a28b35fcdb3841e3c2b58\n",
            "  Stored in directory: /root/.cache/pip/wheels/07/27/db/1222c80eb1e431f3d2199c12569cb1cac60f562a451fe30479\n",
            "Successfully built qiskit python-constraint\n",
            "Installing collected packages: pbr, tweedledum, symengine, stevedore, scipy, retworkx, python-constraint, ply, ntlm-auth, cryptography, websocket-client, requests-ntlm, qiskit-terra, qiskit-ignis, qiskit-ibmq-provider, qiskit-aer, qiskit\n",
            "  Attempting uninstall: scipy\n",
            "    Found existing installation: scipy 1.4.1\n",
            "    Uninstalling scipy-1.4.1:\n",
            "      Successfully uninstalled scipy-1.4.1\n",
            "\u001b[31mERROR: pip's dependency resolver does not currently take into account all the packages that are installed. This behaviour is the source of the following dependency conflicts.\n",
            "albumentations 0.1.12 requires imgaug<0.2.7,>=0.2.5, but you have imgaug 0.2.9 which is incompatible.\u001b[0m\n",
            "Successfully installed cryptography-36.0.2 ntlm-auth-1.5.0 pbr-5.8.1 ply-3.11 python-constraint-1.4.0 qiskit-0.34.2 qiskit-aer-0.10.3 qiskit-ibmq-provider-0.18.3 qiskit-ignis-0.7.0 qiskit-terra-0.19.2 requests-ntlm-1.1.0 retworkx-0.11.0 scipy-1.7.3 stevedore-3.5.0 symengine-0.9.2 tweedledum-1.1.1 websocket-client-1.3.1\n"
          ]
        }
      ]
    },
    {
      "cell_type": "code",
      "source": [
        "from qiskit import QuantumCircuit, assemble, Aer"
      ],
      "metadata": {
        "id": "LepZfZ1AEGaw"
      },
      "execution_count": 3,
      "outputs": []
    },
    {
      "cell_type": "code",
      "source": [
        "from qiskit.visualization import plot_histogram"
      ],
      "metadata": {
        "id": "e3kmz92-AN_U"
      },
      "execution_count": 4,
      "outputs": []
    },
    {
      "cell_type": "markdown",
      "source": [
        "**Encoding The Input**\n"
      ],
      "metadata": {
        "id": "MFIA7FSUA32l"
      }
    },
    {
      "cell_type": "code",
      "source": [
        "##Using the Bit-Flip gate as 'NOT' gate of classical\n",
        "qc = QuantumCircuit(8)\n",
        "\n",
        "##We bit-flipped the 7th bit\n",
        "qc.x(7)"
      ],
      "metadata": {
        "colab": {
          "base_uri": "https://localhost:8080/"
        },
        "id": "bIegYC0RAc29",
        "outputId": "91ef490e-c587-4a7f-b2b0-2951c55eae08"
      },
      "execution_count": 5,
      "outputs": [
        {
          "output_type": "execute_result",
          "data": {
            "text/plain": [
              "<qiskit.circuit.instructionset.InstructionSet at 0x7f9fa0e7ab90>"
            ]
          },
          "metadata": {},
          "execution_count": 5
        }
      ]
    },
    {
      "cell_type": "code",
      "source": [
        "!pip install pylatexenc"
      ],
      "metadata": {
        "colab": {
          "base_uri": "https://localhost:8080/"
        },
        "id": "d_pdDGUwCcZq",
        "outputId": "812bd51a-c49c-4dff-c62b-20c152334c46"
      },
      "execution_count": 6,
      "outputs": [
        {
          "output_type": "stream",
          "name": "stdout",
          "text": [
            "Collecting pylatexenc\n",
            "  Downloading pylatexenc-2.10.tar.gz (162 kB)\n",
            "\u001b[?25l\r\u001b[K     |██                              | 10 kB 23.9 MB/s eta 0:00:01\r\u001b[K     |████                            | 20 kB 25.6 MB/s eta 0:00:01\r\u001b[K     |██████                          | 30 kB 13.3 MB/s eta 0:00:01\r\u001b[K     |████████                        | 40 kB 4.9 MB/s eta 0:00:01\r\u001b[K     |██████████                      | 51 kB 4.9 MB/s eta 0:00:01\r\u001b[K     |████████████                    | 61 kB 5.7 MB/s eta 0:00:01\r\u001b[K     |██████████████                  | 71 kB 5.8 MB/s eta 0:00:01\r\u001b[K     |████████████████▏               | 81 kB 4.3 MB/s eta 0:00:01\r\u001b[K     |██████████████████▏             | 92 kB 4.7 MB/s eta 0:00:01\r\u001b[K     |████████████████████▏           | 102 kB 5.2 MB/s eta 0:00:01\r\u001b[K     |██████████████████████▏         | 112 kB 5.2 MB/s eta 0:00:01\r\u001b[K     |████████████████████████▏       | 122 kB 5.2 MB/s eta 0:00:01\r\u001b[K     |██████████████████████████▏     | 133 kB 5.2 MB/s eta 0:00:01\r\u001b[K     |████████████████████████████▏   | 143 kB 5.2 MB/s eta 0:00:01\r\u001b[K     |██████████████████████████████▎ | 153 kB 5.2 MB/s eta 0:00:01\r\u001b[K     |████████████████████████████████| 162 kB 5.2 MB/s \n",
            "\u001b[?25hBuilding wheels for collected packages: pylatexenc\n",
            "  Building wheel for pylatexenc (setup.py) ... \u001b[?25l\u001b[?25hdone\n",
            "  Created wheel for pylatexenc: filename=pylatexenc-2.10-py3-none-any.whl size=136835 sha256=1a9f16a6b036def16b4542707665be45c7324ae1e80499ada536db9e97025179\n",
            "  Stored in directory: /root/.cache/pip/wheels/f1/8a/f5/33ee79d4473eb201b519fa40f989b842e373237395a3421f52\n",
            "Successfully built pylatexenc\n",
            "Installing collected packages: pylatexenc\n",
            "Successfully installed pylatexenc-2.10\n"
          ]
        }
      ]
    },
    {
      "cell_type": "code",
      "source": [
        "qc.draw()"
      ],
      "metadata": {
        "colab": {
          "base_uri": "https://localhost:8080/",
          "height": 278
        },
        "id": "lW4UbT6gDDut",
        "outputId": "4a6496b9-862a-4d28-b41e-f9381f1a00a5"
      },
      "execution_count": 7,
      "outputs": [
        {
          "output_type": "execute_result",
          "data": {
            "text/plain": [
              "          \n",
              "q_0: ─────\n",
              "          \n",
              "q_1: ─────\n",
              "          \n",
              "q_2: ─────\n",
              "          \n",
              "q_3: ─────\n",
              "          \n",
              "q_4: ─────\n",
              "          \n",
              "q_5: ─────\n",
              "          \n",
              "q_6: ─────\n",
              "     ┌───┐\n",
              "q_7: ┤ X ├\n",
              "     └───┘"
            ],
            "text/html": [
              "<pre style=\"word-wrap: normal;white-space: pre;background: #fff0;line-height: 1.1;font-family: &quot;Courier New&quot;,Courier,monospace\">          \n",
              "q_0: ─────\n",
              "          \n",
              "q_1: ─────\n",
              "          \n",
              "q_2: ─────\n",
              "          \n",
              "q_3: ─────\n",
              "          \n",
              "q_4: ─────\n",
              "          \n",
              "q_5: ─────\n",
              "          \n",
              "q_6: ─────\n",
              "     ┌───┐\n",
              "q_7: ┤ X ├\n",
              "     └───┘</pre>"
            ]
          },
          "metadata": {},
          "execution_count": 7
        }
      ]
    },
    {
      "cell_type": "code",
      "source": [
        "qc.measure_all()\n",
        "qc.draw(initial_state=True)"
      ],
      "metadata": {
        "colab": {
          "base_uri": "https://localhost:8080/",
          "height": 310
        },
        "id": "YCJCqTFWDqEe",
        "outputId": "5f1cea75-0777-4944-bed5-9773ba889539"
      },
      "execution_count": 8,
      "outputs": [
        {
          "output_type": "execute_result",
          "data": {
            "text/plain": [
              "                ░ ┌─┐                     \n",
              "  q_0: |0>──────░─┤M├─────────────────────\n",
              "                ░ └╥┘┌─┐                  \n",
              "  q_1: |0>──────░──╫─┤M├──────────────────\n",
              "                ░  ║ └╥┘┌─┐               \n",
              "  q_2: |0>──────░──╫──╫─┤M├───────────────\n",
              "                ░  ║  ║ └╥┘┌─┐            \n",
              "  q_3: |0>──────░──╫──╫──╫─┤M├────────────\n",
              "                ░  ║  ║  ║ └╥┘┌─┐         \n",
              "  q_4: |0>──────░──╫──╫──╫──╫─┤M├─────────\n",
              "                ░  ║  ║  ║  ║ └╥┘┌─┐      \n",
              "  q_5: |0>──────░──╫──╫──╫──╫──╫─┤M├──────\n",
              "                ░  ║  ║  ║  ║  ║ └╥┘┌─┐   \n",
              "  q_6: |0>──────░──╫──╫──╫──╫──╫──╫─┤M├───\n",
              "          ┌───┐ ░  ║  ║  ║  ║  ║  ║ └╥┘┌─┐\n",
              "  q_7: |0>┤ X ├─░──╫──╫──╫──╫──╫──╫──╫─┤M├\n",
              "          └───┘ ░  ║  ║  ║  ║  ║  ║  ║ └╥┘\n",
              "meas: 0 8/═════════╩══╩══╩══╩══╩══╩══╩══╩═\n",
              "                   0  1  2  3  4  5  6  7 "
            ],
            "text/html": [
              "<pre style=\"word-wrap: normal;white-space: pre;background: #fff0;line-height: 1.1;font-family: &quot;Courier New&quot;,Courier,monospace\">                ░ ┌─┐                     \n",
              "  q_0: |0>──────░─┤M├─────────────────────\n",
              "                ░ └╥┘┌─┐                  \n",
              "  q_1: |0>──────░──╫─┤M├──────────────────\n",
              "                ░  ║ └╥┘┌─┐               \n",
              "  q_2: |0>──────░──╫──╫─┤M├───────────────\n",
              "                ░  ║  ║ └╥┘┌─┐            \n",
              "  q_3: |0>──────░──╫──╫──╫─┤M├────────────\n",
              "                ░  ║  ║  ║ └╥┘┌─┐         \n",
              "  q_4: |0>──────░──╫──╫──╫──╫─┤M├─────────\n",
              "                ░  ║  ║  ║  ║ └╥┘┌─┐      \n",
              "  q_5: |0>──────░──╫──╫──╫──╫──╫─┤M├──────\n",
              "                ░  ║  ║  ║  ║  ║ └╥┘┌─┐   \n",
              "  q_6: |0>──────░──╫──╫──╫──╫──╫──╫─┤M├───\n",
              "          ┌───┐ ░  ║  ║  ║  ║  ║  ║ └╥┘┌─┐\n",
              "  q_7: |0>┤ X ├─░──╫──╫──╫──╫──╫──╫──╫─┤M├\n",
              "          └───┘ ░  ║  ║  ║  ║  ║  ║  ║ └╥┘\n",
              "meas: 0 8/═════════╩══╩══╩══╩══╩══╩══╩══╩═\n",
              "                   0  1  2  3  4  5  6  7 </pre>"
            ]
          },
          "metadata": {},
          "execution_count": 8
        }
      ]
    },
    {
      "cell_type": "code",
      "source": [
        "simul = Aer.get_backend('aer_simulator')"
      ],
      "metadata": {
        "id": "FCVZHXUqFMNn"
      },
      "execution_count": 9,
      "outputs": []
    },
    {
      "cell_type": "code",
      "source": [
        "result = simul.run(qc, validate=True).result()"
      ],
      "metadata": {
        "id": "ZMnaPsoXFaB0"
      },
      "execution_count": 10,
      "outputs": []
    },
    {
      "cell_type": "code",
      "source": [
        "counts = result.get_counts()\n",
        "plot_histogram(counts)"
      ],
      "metadata": {
        "colab": {
          "base_uri": "https://localhost:8080/",
          "height": 380
        },
        "id": "sGQbOw1SFlWJ",
        "outputId": "84002ba2-0496-47c8-bbe8-336a8dfc354f"
      },
      "execution_count": 11,
      "outputs": [
        {
          "output_type": "execute_result",
          "data": {
            "text/plain": [
              "<Figure size 504x360 with 1 Axes>"
            ],
            "image/png": "[encoded data removed]"
          },
          "metadata": {},
          "execution_count": 11
        }
      ]
    },
    {
      "cell_type": "markdown",
      "source": [
        "The output value 1 comes from the 7th qubit, as we had applied the bit-flip gate at the 7th qubit itself, and initially the values of all qubits are zero."
      ],
      "metadata": {
        "id": "IMmQMDdyH32F"
      }
    },
    {
      "cell_type": "code",
      "source": [
        "##Using the CNOT gate to extract the output i.e. to check wheather the bits are different or the same\n",
        "qc_cnot = QuantumCircuit(2)\n",
        "\n",
        "##the CNOT gate is applied to the 2 qubits\n",
        "qc_cnot.cx(0,1)\n",
        "qc_cnot.draw()"
      ],
      "metadata": {
        "colab": {
          "base_uri": "https://localhost:8080/",
          "height": 93
        },
        "id": "smMRdn4CFuK9",
        "outputId": "18ddf499-d267-45ea-edb8-fbdd13579bed"
      },
      "execution_count": 12,
      "outputs": [
        {
          "output_type": "execute_result",
          "data": {
            "text/plain": [
              "          \n",
              "q_0: ──■──\n",
              "     ┌─┴─┐\n",
              "q_1: ┤ X ├\n",
              "     └───┘"
            ],
            "text/html": [
              "<pre style=\"word-wrap: normal;white-space: pre;background: #fff0;line-height: 1.1;font-family: &quot;Courier New&quot;,Courier,monospace\">          \n",
              "q_0: ──■──\n",
              "     ┌─┴─┐\n",
              "q_1: ┤ X ├\n",
              "     └───┘</pre>"
            ]
          },
          "metadata": {},
          "execution_count": 12
        }
      ]
    },
    {
      "cell_type": "markdown",
      "source": [
        "Here, q_0 is the control bit, and q_1 is the target bit"
      ],
      "metadata": {
        "id": "LkJCluhaQ8po"
      }
    },
    {
      "cell_type": "code",
      "source": [
        "qc_cnot1 = QuantumCircuit(2,2)\n",
        "qc_cnot1.x(0)\n",
        "qc_cnot1.cx(0,1)\n",
        "qc_cnot1.measure_all(1,1)\n",
        "qc_cnot1.measure_all(0,0)\n",
        "qc_cnot1.draw()"
      ],
      "metadata": {
        "colab": {
          "base_uri": "https://localhost:8080/",
          "height": 155
        },
        "id": "vcE5OcW0QjW1",
        "outputId": "4dc9d61c-0c29-4275-f4ca-b01a4bd5157f"
      },
      "execution_count": 13,
      "outputs": [
        {
          "output_type": "execute_result",
          "data": {
            "text/plain": [
              "        ┌───┐      ░ ┌─┐   \n",
              "   q_0: ┤ X ├──■───░─┤M├───\n",
              "        └───┘┌─┴─┐ ░ └╥┘┌─┐\n",
              "   q_1: ─────┤ X ├─░──╫─┤M├\n",
              "             └───┘ ░  ║ └╥┘\n",
              "   c: 2/══════════════╬══╬═\n",
              "                      ║  ║ \n",
              "meas: 2/══════════════╩══╩═\n",
              "                      0  1 "
            ],
            "text/html": [
              "<pre style=\"word-wrap: normal;white-space: pre;background: #fff0;line-height: 1.1;font-family: &quot;Courier New&quot;,Courier,monospace\">        ┌───┐      ░ ┌─┐   \n",
              "   q_0: ┤ X ├──■───░─┤M├───\n",
              "        └───┘┌─┴─┐ ░ └╥┘┌─┐\n",
              "   q_1: ─────┤ X ├─░──╫─┤M├\n",
              "             └───┘ ░  ║ └╥┘\n",
              "   c: 2/══════════════╬══╬═\n",
              "                      ║  ║ \n",
              "meas: 2/══════════════╩══╩═\n",
              "                      0  1 </pre>"
            ]
          },
          "metadata": {},
          "execution_count": 13
        }
      ]
    },
    {
      "cell_type": "markdown",
      "source": [
        "Input (q1 q0)\tOutput (q1 q0)\n",
        "\n",
        "            00\t00\n",
        "            01\t11\n",
        "            10\t10\n",
        "            11\t01\n",
        "\n",
        "The Output is 1 1, as q0 = 1 because we had initially introduced a bit flip operaor\n",
        " and q1 = 0"
      ],
      "metadata": {
        "id": "aRA1zrhv85PV"
      }
    },
    {
      "cell_type": "code",
      "source": [
        ""
      ],
      "metadata": {
        "id": "_wj9JOmS8HEH"
      },
      "execution_count": 13,
      "outputs": []
    }
  ]
}