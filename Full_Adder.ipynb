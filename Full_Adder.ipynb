{
  "nbformat": 4,
  "nbformat_minor": 0,
  "metadata": {
    "colab": {
      "name": "Full-Adder.ipynb",
      "provenance": [],
      "authorship_tag": "ABX9TyMOESWxiUkGOLaJd154Vyf4",
      "include_colab_link": true
    },
    "kernelspec": {
      "name": "python3",
      "display_name": "Python 3"
    },
    "language_info": {
      "name": "python"
    }
  },
  "cells": [
    {
      "cell_type": "markdown",
      "metadata": {
        "id": "view-in-github",
        "colab_type": "text"
      },
      "source": [
        "<a href=\"https://colab.research.google.com/github/parth1614/QuantumComputing-Qiskit/blob/main/Full_Adder.ipynb\" target=\"_parent\"><img src=\"https://colab.research.google.com/assets/colab-badge.svg\" alt=\"Open In Colab\"/></a>"
      ]
    },
    {
      "cell_type": "code",
      "execution_count": 1,
      "metadata": {
        "colab": {
          "base_uri": "https://localhost:8080/"
        },
        "id": "wPiyql-eLHP6",
        "outputId": "f8e71ba0-9191-4d41-a98b-b310ed288e85"
      },
      "outputs": [
        {
          "output_type": "stream",
          "name": "stdout",
          "text": [
            "Requirement already satisfied: qiskit in /usr/local/lib/python3.7/dist-packages (0.34.2)\n",
            "Requirement already satisfied: qiskit-ibmq-provider==0.18.3 in /usr/local/lib/python3.7/dist-packages (from qiskit) (0.18.3)\n",
            "Requirement already satisfied: qiskit-ignis==0.7.0 in /usr/local/lib/python3.7/dist-packages (from qiskit) (0.7.0)\n",
            "Requirement already satisfied: qiskit-terra==0.19.2 in /usr/local/lib/python3.7/dist-packages (from qiskit) (0.19.2)\n",
            "Requirement already satisfied: qiskit-aer==0.10.3 in /usr/local/lib/python3.7/dist-packages (from qiskit) (0.10.3)\n",
            "Requirement already satisfied: scipy>=1.0 in /usr/local/lib/python3.7/dist-packages (from qiskit-aer==0.10.3->qiskit) (1.7.3)\n",
            "Requirement already satisfied: numpy>=1.16.3 in /usr/local/lib/python3.7/dist-packages (from qiskit-aer==0.10.3->qiskit) (1.21.5)\n",
            "Requirement already satisfied: websocket-client>=1.0.1 in /usr/local/lib/python3.7/dist-packages (from qiskit-ibmq-provider==0.18.3->qiskit) (1.3.1)\n",
            "Requirement already satisfied: requests>=2.19 in /usr/local/lib/python3.7/dist-packages (from qiskit-ibmq-provider==0.18.3->qiskit) (2.23.0)\n",
            "Requirement already satisfied: urllib3>=1.21.1 in /usr/local/lib/python3.7/dist-packages (from qiskit-ibmq-provider==0.18.3->qiskit) (1.24.3)\n",
            "Requirement already satisfied: python-dateutil>=2.8.0 in /usr/local/lib/python3.7/dist-packages (from qiskit-ibmq-provider==0.18.3->qiskit) (2.8.2)\n",
            "Requirement already satisfied: requests-ntlm>=1.1.0 in /usr/local/lib/python3.7/dist-packages (from qiskit-ibmq-provider==0.18.3->qiskit) (1.1.0)\n",
            "Requirement already satisfied: retworkx>=0.8.0 in /usr/local/lib/python3.7/dist-packages (from qiskit-ignis==0.7.0->qiskit) (0.11.0)\n",
            "Requirement already satisfied: setuptools>=40.1.0 in /usr/local/lib/python3.7/dist-packages (from qiskit-ignis==0.7.0->qiskit) (57.4.0)\n",
            "Requirement already satisfied: tweedledum<2.0,>=1.1 in /usr/local/lib/python3.7/dist-packages (from qiskit-terra==0.19.2->qiskit) (1.1.1)\n",
            "Requirement already satisfied: python-constraint>=1.4 in /usr/local/lib/python3.7/dist-packages (from qiskit-terra==0.19.2->qiskit) (1.4.0)\n",
            "Requirement already satisfied: sympy>=1.3 in /usr/local/lib/python3.7/dist-packages (from qiskit-terra==0.19.2->qiskit) (1.7.1)\n",
            "Requirement already satisfied: symengine>=0.8 in /usr/local/lib/python3.7/dist-packages (from qiskit-terra==0.19.2->qiskit) (0.9.2)\n",
            "Requirement already satisfied: ply>=3.10 in /usr/local/lib/python3.7/dist-packages (from qiskit-terra==0.19.2->qiskit) (3.11)\n",
            "Requirement already satisfied: dill>=0.3 in /usr/local/lib/python3.7/dist-packages (from qiskit-terra==0.19.2->qiskit) (0.3.4)\n",
            "Requirement already satisfied: stevedore>=3.0.0 in /usr/local/lib/python3.7/dist-packages (from qiskit-terra==0.19.2->qiskit) (3.5.0)\n",
            "Requirement already satisfied: psutil>=5 in /usr/local/lib/python3.7/dist-packages (from qiskit-terra==0.19.2->qiskit) (5.4.8)\n",
            "Requirement already satisfied: six>=1.5 in /usr/local/lib/python3.7/dist-packages (from python-dateutil>=2.8.0->qiskit-ibmq-provider==0.18.3->qiskit) (1.15.0)\n",
            "Requirement already satisfied: chardet<4,>=3.0.2 in /usr/local/lib/python3.7/dist-packages (from requests>=2.19->qiskit-ibmq-provider==0.18.3->qiskit) (3.0.4)\n",
            "Requirement already satisfied: idna<3,>=2.5 in /usr/local/lib/python3.7/dist-packages (from requests>=2.19->qiskit-ibmq-provider==0.18.3->qiskit) (2.10)\n",
            "Requirement already satisfied: certifi>=2017.4.17 in /usr/local/lib/python3.7/dist-packages (from requests>=2.19->qiskit-ibmq-provider==0.18.3->qiskit) (2021.10.8)\n",
            "Requirement already satisfied: ntlm-auth>=1.0.2 in /usr/local/lib/python3.7/dist-packages (from requests-ntlm>=1.1.0->qiskit-ibmq-provider==0.18.3->qiskit) (1.5.0)\n",
            "Requirement already satisfied: cryptography>=1.3 in /usr/local/lib/python3.7/dist-packages (from requests-ntlm>=1.1.0->qiskit-ibmq-provider==0.18.3->qiskit) (36.0.2)\n",
            "Requirement already satisfied: cffi>=1.12 in /usr/local/lib/python3.7/dist-packages (from cryptography>=1.3->requests-ntlm>=1.1.0->qiskit-ibmq-provider==0.18.3->qiskit) (1.15.0)\n",
            "Requirement already satisfied: pycparser in /usr/local/lib/python3.7/dist-packages (from cffi>=1.12->cryptography>=1.3->requests-ntlm>=1.1.0->qiskit-ibmq-provider==0.18.3->qiskit) (2.21)\n",
            "Requirement already satisfied: importlib-metadata>=1.7.0 in /usr/local/lib/python3.7/dist-packages (from stevedore>=3.0.0->qiskit-terra==0.19.2->qiskit) (4.11.2)\n",
            "Requirement already satisfied: pbr!=2.1.0,>=2.0.0 in /usr/local/lib/python3.7/dist-packages (from stevedore>=3.0.0->qiskit-terra==0.19.2->qiskit) (5.8.1)\n",
            "Requirement already satisfied: zipp>=0.5 in /usr/local/lib/python3.7/dist-packages (from importlib-metadata>=1.7.0->stevedore>=3.0.0->qiskit-terra==0.19.2->qiskit) (3.7.0)\n",
            "Requirement already satisfied: typing-extensions>=3.6.4 in /usr/local/lib/python3.7/dist-packages (from importlib-metadata>=1.7.0->stevedore>=3.0.0->qiskit-terra==0.19.2->qiskit) (3.10.0.2)\n",
            "Requirement already satisfied: mpmath>=0.19 in /usr/local/lib/python3.7/dist-packages (from sympy>=1.3->qiskit-terra==0.19.2->qiskit) (1.2.1)\n"
          ]
        }
      ],
      "source": [
        "!pip install qiskit\n",
        "from qiskit import QuantumCircuit, assemble, Aer\n",
        "from qiskit.visualization import plot_histogram, plot_bloch_multivector"
      ]
    },
    {
      "cell_type": "code",
      "source": [
        "## Creating a quantum circuit woth 8 qubits and 2 classical bits\n",
        "qc = QuantumCircuit(8,2)"
      ],
      "metadata": {
        "id": "BbUv1fZkLgn8"
      },
      "execution_count": 2,
      "outputs": []
    },
    {
      "cell_type": "code",
      "source": [
        "## Getting inputs of |1> by bit flip operator\n",
        "qc.x(0)\n",
        "qc.x(1)\n",
        "qc.x(2)\n",
        "qc.barrier()"
      ],
      "metadata": {
        "colab": {
          "base_uri": "https://localhost:8080/"
        },
        "id": "BwnO64GWMSSA",
        "outputId": "3d867aec-8ab4-4bed-b52f-d35a74c47312"
      },
      "execution_count": 3,
      "outputs": [
        {
          "output_type": "execute_result",
          "data": {
            "text/plain": [
              "<qiskit.circuit.instructionset.InstructionSet at 0x7f1978168820>"
            ]
          },
          "metadata": {},
          "execution_count": 3
        }
      ]
    },
    {
      "cell_type": "code",
      "source": [
        "## 1st AND gate implementation\n",
        "qc.ccx(0,1,3)\n",
        "qc.barrier()"
      ],
      "metadata": {
        "colab": {
          "base_uri": "https://localhost:8080/"
        },
        "id": "D3K7H7CtMizH",
        "outputId": "ffcd3a21-3ab2-41ca-e522-97556c3ec812"
      },
      "execution_count": 4,
      "outputs": [
        {
          "output_type": "execute_result",
          "data": {
            "text/plain": [
              "<qiskit.circuit.instructionset.InstructionSet at 0x7f1978162370>"
            ]
          },
          "metadata": {},
          "execution_count": 4
        }
      ]
    },
    {
      "cell_type": "code",
      "source": [
        "## 1st OR gate implementation\n",
        "qc.cx(0,4)\n",
        "qc.cx(1,4)\n",
        "qc.barrier()"
      ],
      "metadata": {
        "colab": {
          "base_uri": "https://localhost:8080/"
        },
        "id": "5JBW21caOAfr",
        "outputId": "52f73386-d24c-4caf-8f04-a275640c2ff1"
      },
      "execution_count": 5,
      "outputs": [
        {
          "output_type": "execute_result",
          "data": {
            "text/plain": [
              "<qiskit.circuit.instructionset.InstructionSet at 0x7f197816d910>"
            ]
          },
          "metadata": {},
          "execution_count": 5
        }
      ]
    },
    {
      "cell_type": "code",
      "source": [
        "## 2nd OR gate implementation\n",
        "qc.cx(2,5)\n",
        "qc.cx(4,5)\n",
        "qc.barrier()"
      ],
      "metadata": {
        "colab": {
          "base_uri": "https://localhost:8080/"
        },
        "id": "4h6ZCfGuOOST",
        "outputId": "13edf8b6-6566-47f4-bf3f-f55b10da1aba"
      },
      "execution_count": 6,
      "outputs": [
        {
          "output_type": "execute_result",
          "data": {
            "text/plain": [
              "<qiskit.circuit.instructionset.InstructionSet at 0x7f19780f2910>"
            ]
          },
          "metadata": {},
          "execution_count": 6
        }
      ]
    },
    {
      "cell_type": "code",
      "source": [
        "## 2nd AND gate implementation\n",
        "qc.ccx(2,4,6)\n",
        "qc.barrier()"
      ],
      "metadata": {
        "colab": {
          "base_uri": "https://localhost:8080/"
        },
        "id": "iDKxHxnuOYxK",
        "outputId": "0950abbd-10af-4cd0-97b0-899ac8121529"
      },
      "execution_count": 7,
      "outputs": [
        {
          "output_type": "execute_result",
          "data": {
            "text/plain": [
              "<qiskit.circuit.instructionset.InstructionSet at 0x7f19780f7a50>"
            ]
          },
          "metadata": {},
          "execution_count": 7
        }
      ]
    },
    {
      "cell_type": "code",
      "source": [
        "## OR gate implementation\n",
        "qc.x(3)\n",
        "qc.x(6)\n",
        "qc.ccx(3,6,7)\n",
        "qc.barrier()"
      ],
      "metadata": {
        "colab": {
          "base_uri": "https://localhost:8080/"
        },
        "id": "XriM4LLwOk68",
        "outputId": "a44d2573-8244-40b6-a7b5-c4033f6026e4"
      },
      "execution_count": 8,
      "outputs": [
        {
          "output_type": "execute_result",
          "data": {
            "text/plain": [
              "<qiskit.circuit.instructionset.InstructionSet at 0x7f197816df00>"
            ]
          },
          "metadata": {},
          "execution_count": 8
        }
      ]
    },
    {
      "cell_type": "code",
      "source": [
        "## Measuring and putting resluts in classical bits\n",
        "qc.measure(5,0) ## SUM\n",
        "qc.measure(7,1) ## Carry-Over\n",
        "qc.draw()"
      ],
      "metadata": {
        "colab": {
          "base_uri": "https://localhost:8080/",
          "height": 310
        },
        "id": "bmxlnwgwRfQr",
        "outputId": "7b406ec7-292e-448c-d17b-9fd613bf7aef"
      },
      "execution_count": 9,
      "outputs": [
        {
          "output_type": "execute_result",
          "data": {
            "text/plain": [
              "     ┌───┐ ░       ░            ░            ░       ░            ░       \n",
              "q_0: ┤ X ├─░───■───░───■────────░────────────░───────░────────────░───────\n",
              "     ├───┤ ░   │   ░   │        ░            ░       ░            ░       \n",
              "q_1: ┤ X ├─░───■───░───┼────■───░────────────░───────░────────────░───────\n",
              "     ├───┤ ░   │   ░   │    │   ░            ░       ░            ░       \n",
              "q_2: ┤ X ├─░───┼───░───┼────┼───░───■────────░───■───░────────────░───────\n",
              "     └───┘ ░ ┌─┴─┐ ░   │    │   ░   │        ░   │   ░ ┌───┐      ░       \n",
              "q_3: ──────░─┤ X ├─░───┼────┼───░───┼────────░───┼───░─┤ X ├──■───░───────\n",
              "           ░ └───┘ ░ ┌─┴─┐┌─┴─┐ ░   │        ░   │   ░ └───┘  │   ░       \n",
              "q_4: ──────░───────░─┤ X ├┤ X ├─░───┼────■───░───■───░────────┼───░───────\n",
              "           ░       ░ └───┘└───┘ ░ ┌─┴─┐┌─┴─┐ ░   │   ░        │   ░ ┌─┐   \n",
              "q_5: ──────░───────░────────────░─┤ X ├┤ X ├─░───┼───░────────┼───░─┤M├───\n",
              "           ░       ░            ░ └───┘└───┘ ░ ┌─┴─┐ ░ ┌───┐  │   ░ └╥┘   \n",
              "q_6: ──────░───────░────────────░────────────░─┤ X ├─░─┤ X ├──■───░──╫────\n",
              "           ░       ░            ░            ░ └───┘ ░ └───┘┌─┴─┐ ░  ║ ┌─┐\n",
              "q_7: ──────░───────░────────────░────────────░───────░──────┤ X ├─░──╫─┤M├\n",
              "           ░       ░            ░            ░       ░      └───┘ ░  ║ └╥┘\n",
              "c: 2/════════════════════════════════════════════════════════════════╩══╩═\n",
              "                                                                     0  1 "
            ],
            "text/html": [
              "<pre style=\"word-wrap: normal;white-space: pre;background: #fff0;line-height: 1.1;font-family: &quot;Courier New&quot;,Courier,monospace\">     ┌───┐ ░       ░            ░            ░       ░            ░       \n",
              "q_0: ┤ X ├─░───■───░───■────────░────────────░───────░────────────░───────\n",
              "     ├───┤ ░   │   ░   │        ░            ░       ░            ░       \n",
              "q_1: ┤ X ├─░───■───░───┼────■───░────────────░───────░────────────░───────\n",
              "     ├───┤ ░   │   ░   │    │   ░            ░       ░            ░       \n",
              "q_2: ┤ X ├─░───┼───░───┼────┼───░───■────────░───■───░────────────░───────\n",
              "     └───┘ ░ ┌─┴─┐ ░   │    │   ░   │        ░   │   ░ ┌───┐      ░       \n",
              "q_3: ──────░─┤ X ├─░───┼────┼───░───┼────────░───┼───░─┤ X ├──■───░───────\n",
              "           ░ └───┘ ░ ┌─┴─┐┌─┴─┐ ░   │        ░   │   ░ └───┘  │   ░       \n",
              "q_4: ──────░───────░─┤ X ├┤ X ├─░───┼────■───░───■───░────────┼───░───────\n",
              "           ░       ░ └───┘└───┘ ░ ┌─┴─┐┌─┴─┐ ░   │   ░        │   ░ ┌─┐   \n",
              "q_5: ──────░───────░────────────░─┤ X ├┤ X ├─░───┼───░────────┼───░─┤M├───\n",
              "           ░       ░            ░ └───┘└───┘ ░ ┌─┴─┐ ░ ┌───┐  │   ░ └╥┘   \n",
              "q_6: ──────░───────░────────────░────────────░─┤ X ├─░─┤ X ├──■───░──╫────\n",
              "           ░       ░            ░            ░ └───┘ ░ └───┘┌─┴─┐ ░  ║ ┌─┐\n",
              "q_7: ──────░───────░────────────░────────────░───────░──────┤ X ├─░──╫─┤M├\n",
              "           ░       ░            ░            ░       ░      └───┘ ░  ║ └╥┘\n",
              "c: 2/════════════════════════════════════════════════════════════════╩══╩═\n",
              "                                                                     0  1 </pre>"
            ]
          },
          "metadata": {},
          "execution_count": 9
        }
      ]
    },
    {
      "cell_type": "code",
      "source": [
        "from qiskit import execute\n",
        "counts = execute(qc, Aer.get_backend('aer_simulator')).result().get_counts()\n",
        "print(counts)"
      ],
      "metadata": {
        "colab": {
          "base_uri": "https://localhost:8080/"
        },
        "id": "jE9WyL59R-Ky",
        "outputId": "23683e67-f465-4d92-b48c-3fc1271221db"
      },
      "execution_count": 13,
      "outputs": [
        {
          "output_type": "stream",
          "name": "stdout",
          "text": [
            "{'01': 1024}\n"
          ]
        }
      ]
    },
    {
      "cell_type": "code",
      "source": [
        "from qiskit.visualization import plot_histogram"
      ],
      "metadata": {
        "id": "S20qbxafSf2a"
      },
      "execution_count": 14,
      "outputs": []
    },
    {
      "cell_type": "code",
      "source": [
        "plot_histogram(counts)"
      ],
      "metadata": {
        "colab": {
          "base_uri": "https://localhost:8080/",
          "height": 331
        },
        "id": "rpkkYXD5S3tZ",
        "outputId": "359399c4-33d3-4cf4-f228-4f85fa96b780"
      },
      "execution_count": 15,
      "outputs": [
        {
          "output_type": "execute_result",
          "data": {
            "text/plain": [
              "<Figure size 504x360 with 1 Axes>"
            ],
            "image/png": "[encoded data removed]"
          },
          "metadata": {},
          "execution_count": 15
        }
      ]
    },
    {
      "cell_type": "code",
      "source": [
        ""
      ],
      "metadata": {
        "id": "84vJOuFjTcoA"
      },
      "execution_count": null,
      "outputs": []
    }
  ]
}